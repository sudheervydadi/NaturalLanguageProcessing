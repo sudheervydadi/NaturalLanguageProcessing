{
 "cells": [
  {
   "cell_type": "markdown",
   "metadata": {},
   "source": [
    "# Sudheer Vydadi\n",
    "#3234"
   ]
  },
  {
   "cell_type": "markdown",
   "metadata": {},
   "source": [
    "# Problem Statement"
   ]
  },
  {
   "cell_type": "markdown",
   "metadata": {},
   "source": [
    "# There are two files that are provided and each of them records. The dataset is available in the two files.\n",
    "waterpoint_data_values.csv\n",
    "waterpoint_data_labels.csv"
   ]
  },
  {
   "cell_type": "code",
   "execution_count": 0,
   "metadata": {
    "colab": {},
    "colab_type": "code",
    "id": "UU2hCSt65WSF"
   },
   "outputs": [],
   "source": [
    "!apt-get install openjdk-8-jdk-headless -qq > /dev/null\n",
    "!wget -q https://www-us.apache.org/dist/spark/spark-2.4.4/spark-2.4.4-bin-hadoop2.7.tgz\n",
    "!tar xf /content/spark-2.4.4-bin-hadoop2.7.tgz\n",
    "!pip install -q findspark"
   ]
  },
  {
   "cell_type": "code",
   "execution_count": 0,
   "metadata": {
    "colab": {},
    "colab_type": "code",
    "id": "p-As12mW528G"
   },
   "outputs": [],
   "source": [
    "import os\n",
    "os.environ[\"JAVA_HOME\"] = \"/usr/lib/jvm/java-8-openjdk-amd64\"\n",
    "os.environ[\"SPARK_HOME\"] = \"/content/spark-2.4.4-bin-hadoop2.7\""
   ]
  },
  {
   "cell_type": "code",
   "execution_count": 0,
   "metadata": {
    "colab": {},
    "colab_type": "code",
    "id": "vMCe4EFNChmQ"
   },
   "outputs": [],
   "source": [
    "import chart_studio\n",
    "import pandas as pd\n",
    "import numpy as np\n",
    "import warnings"
   ]
  },
  {
   "cell_type": "code",
   "execution_count": 4,
   "metadata": {
    "colab": {
     "base_uri": "https://localhost:8080/",
     "height": 17
    },
    "colab_type": "code",
    "executionInfo": {
     "elapsed": 24633,
     "status": "ok",
     "timestamp": 1576127710964,
     "user": {
      "displayName": "satya spandana",
      "photoUrl": "https://lh3.googleusercontent.com/a-/AAuE7mCfauLdOARtF3m31Q6IVCiPbXVRyVFWJ5wyIs_6x5Q=s64",
      "userId": "01603550593909639502"
     },
     "user_tz": -330
    },
    "id": "1e7v5ztYC55g",
    "outputId": "6f041b56-3931-4c65-860e-c22fc24511fc"
   },
   "outputs": [
    {
     "data": {
      "text/html": [
       "        <script type=\"text/javascript\">\n",
       "        window.PlotlyConfig = {MathJaxConfig: 'local'};\n",
       "        if (window.MathJax) {MathJax.Hub.Config({SVG: {font: \"STIX-Web\"}});}\n",
       "        if (typeof require !== 'undefined') {\n",
       "        require.undef(\"plotly\");\n",
       "        requirejs.config({\n",
       "            paths: {\n",
       "                'plotly': ['https://cdn.plot.ly/plotly-latest.min']\n",
       "            }\n",
       "        });\n",
       "        require(['plotly'], function(Plotly) {\n",
       "            window._Plotly = Plotly;\n",
       "        });\n",
       "        }\n",
       "        </script>\n",
       "        "
      ]
     },
     "metadata": {
      "tags": []
     },
     "output_type": "display_data"
    }
   ],
   "source": [
    "# Plotting libraries\n",
    "import matplotlib.pyplot as plt\n",
    "import seaborn as sns\n",
    "import chart_studio\n",
    "import plotly\n",
    "#plotly.tools.set_credentials_file(username='nooknaga', api_key='YGXcB1Sa2BjpT2H6ax7r')\n",
    "chart_studio.tools.set_credentials_file(username='nooknaga', api_key='YGXcB1Sa2BjpT2H6ax7r')\n",
    "import plotly.figure_factory as ff\n",
    "#import plotly.plotly as py\n",
    "import chart_studio.plotly as py\n",
    "import plotly.offline as pyoff\n",
    "#import plotly.graph_objs as go\n",
    "import plotly.graph_objects as go\n",
    "\n",
    "# Initializing some settings\n",
    "sns.set_style('whitegrid')\n",
    "sns.set(color_codes=True)\n",
    "warnings.filterwarnings('ignore')\n",
    "pyoff.init_notebook_mode(connected=True)\n",
    "get_ipython().magic('matplotlib inline')"
   ]
  },
  {
   "cell_type": "markdown",
   "metadata": {},
   "source": [
    "# Uploding data"
   ]
  },
  {
   "cell_type": "code",
   "execution_count": 0,
   "metadata": {
    "colab": {},
    "colab_type": "code",
    "id": "IkPMXJg66Hg9"
   },
   "outputs": [],
   "source": [
    "from google.colab import files"
   ]
  },
  {
   "cell_type": "code",
   "execution_count": 9,
   "metadata": {
    "colab": {
     "base_uri": "https://localhost:8080/",
     "height": 165,
     "output_embedded_package_id": "14kVvUKZeZCNAE2iceyVW4EQKUe_wLSdE",
     "resources": {
      "http://localhost:8080/nbextensions/google.colab/files.js": {
       "data": "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",
       "headers": [
        [
         "content-type",
         "application/javascript"
        ]
       ],
       "ok": true,
       "status": 200,
       "status_text": ""
      }
     }
    },
    "colab_type": "code",
    "executionInfo": {
     "elapsed": 354056,
     "status": "ok",
     "timestamp": 1576128286199,
     "user": {
      "displayName": "satya spandana",
      "photoUrl": "https://lh3.googleusercontent.com/a-/AAuE7mCfauLdOARtF3m31Q6IVCiPbXVRyVFWJ5wyIs_6x5Q=s64",
      "userId": "01603550593909639502"
     },
     "user_tz": -330
    },
    "id": "InfKegbQ7p0y",
    "outputId": "4a05155a-eeaa-452b-a48c-20e4db5569da"
   },
   "outputs": [
    {
     "data": {
      "text/plain": [
       "Output hidden; open in https://colab.research.google.com to view."
      ]
     },
     "metadata": {},
     "output_type": "display_data"
    }
   ],
   "source": [
    "files.upload()"
   ]
  },
  {
   "cell_type": "code",
   "execution_count": 10,
   "metadata": {
    "colab": {
     "base_uri": "https://localhost:8080/",
     "height": 69
    },
    "colab_type": "code",
    "executionInfo": {
     "elapsed": 8153,
     "status": "ok",
     "timestamp": 1576134687289,
     "user": {
      "displayName": "satya spandana",
      "photoUrl": "https://lh3.googleusercontent.com/a-/AAuE7mCfauLdOARtF3m31Q6IVCiPbXVRyVFWJ5wyIs_6x5Q=s64",
      "userId": "01603550593909639502"
     },
     "user_tz": -330
    },
    "id": "inM3mGcX9OeL",
    "outputId": "9a38274d-cd30-48bf-a8f7-3fc6f8a63a55"
   },
   "outputs": [
    {
     "name": "stdout",
     "output_type": "stream",
     "text": [
      "\u001b[0m\u001b[01;34msample_data\u001b[0m/                   waterpoint_data_labels-1575881325136.csv\n",
      "\u001b[01;34mspark-2.4.4-bin-hadoop2.7\u001b[0m/     waterpoint_data_values-1575881300405.csv\n",
      "spark-2.4.4-bin-hadoop2.7.tgz\n"
     ]
    }
   ],
   "source": [
    "ls"
   ]
  },
  {
   "cell_type": "code",
   "execution_count": 0,
   "metadata": {
    "colab": {},
    "colab_type": "code",
    "id": "eFsH3P2s7410"
   },
   "outputs": [],
   "source": [
    "import os\n",
    "os.environ[\"JAVA_HOME\"] = \"/usr/lib/jvm/java-8-openjdk-amd64\"\n",
    "os.environ[\"SPARK_HOME\"] = \"/content/spark-2.4.4-bin-hadoop2.7\"\n",
    "import findspark\n",
    "findspark.init() #initailises spark into this container on google platform\n",
    "from pyspark.sql import SparkSession\n",
    "spark = SparkSession.builder.master(\"local[*]\").getOrCreate()\n",
    "sc = spark.sparkContext"
   ]
  },
  {
   "cell_type": "markdown",
   "metadata": {},
   "source": [
    "# Task1: Create the schema for the two files and two different dataframes for the two files."
   ]
  },
  {
   "cell_type": "code",
   "execution_count": 0,
   "metadata": {
    "colab": {},
    "colab_type": "code",
    "id": "Dq6fONQWtkes"
   },
   "outputs": [],
   "source": [
    "#construct schema\n",
    "# StructType accomodates the entire row; StructField is for the individual cell (name/value/constraint etc...)\n",
    "from pyspark.sql.types import *\n",
    "water_dataSchema = StructType([\n",
    "                         StructField(\"id\",IntegerType(), True),\n",
    "                         StructField(\"status_group\",StringType(), True)\n",
    "])"
   ]
  },
  {
   "cell_type": "code",
   "execution_count": 13,
   "metadata": {
    "colab": {
     "base_uri": "https://localhost:8080/",
     "height": 104
    },
    "colab_type": "code",
    "executionInfo": {
     "elapsed": 9866,
     "status": "ok",
     "timestamp": 1576134703595,
     "user": {
      "displayName": "satya spandana",
      "photoUrl": "https://lh3.googleusercontent.com/a-/AAuE7mCfauLdOARtF3m31Q6IVCiPbXVRyVFWJ5wyIs_6x5Q=s64",
      "userId": "01603550593909639502"
     },
     "user_tz": -330
    },
    "id": "16zUpr3E8bmf",
    "outputId": "046bc1fb-363d-4c82-9dca-1104cfa00737"
   },
   "outputs": [
    {
     "data": {
      "text/plain": [
       "[Row(id=69572, status_group='functional'),\n",
       " Row(id=8776, status_group='functional'),\n",
       " Row(id=34310, status_group='functional'),\n",
       " Row(id=67743, status_group='non functional'),\n",
       " Row(id=19728, status_group='functional')]"
      ]
     },
     "execution_count": 13,
     "metadata": {
      "tags": []
     },
     "output_type": "execute_result"
    }
   ],
   "source": [
    "# creating a dataframe with the csv and displaying the top 3 values\n",
    "water_data = spark.read.format(\"csv\") \\\n",
    "          .option(\"header\",\"true\") \\\n",
    "          .option(\"inferSchema\",\"true\") \\\n",
    "          .schema(water_dataSchema) \\\n",
    "          .load(\"waterpoint_data_labels-1575881325136.csv\")\n",
    "water_data.head(5)"
   ]
  },
  {
   "cell_type": "code",
   "execution_count": 0,
   "metadata": {
    "colab": {},
    "colab_type": "code",
    "id": "fbKFNFG0wm7u"
   },
   "outputs": [],
   "source": [
    "#better representation in a tabular form\n",
    "water_data.createOrReplaceTempView(\"water_dataTable\")"
   ]
  },
  {
   "cell_type": "code",
   "execution_count": 0,
   "metadata": {
    "colab": {},
    "colab_type": "code",
    "id": "Y_C4VB-BwtOo"
   },
   "outputs": [],
   "source": [
    "from pyspark.sql.types import *\n",
    "label_dataSchema = StructType([\n",
    "                         StructField(\"id\",IntegerType(), True),\n",
    "                         StructField(\"amount_tsh\",IntegerType(), True),\n",
    "                         StructField(\"date_recorded\",StringType(), True),\n",
    "                         StructField(\"funder\",StringType(), True),\n",
    "                         StructField(\"gps_height\",IntegerType(), True),\n",
    "                         StructField(\"installer\",StringType(), True),\n",
    "                         StructField(\"longitude\",DoubleType(), True),\n",
    "                         StructField(\"lalitude\",DoubleType(), True),\n",
    "                         StructField(\"wpt_name\",StringType(), True),\n",
    "                         StructField(\"num_private\",IntegerType(), True),\n",
    "                         StructField(\"basin\",StringType(), True),\n",
    "                         StructField(\"subvillage\",StringType(),True),\n",
    "                         StructField(\"region\",StringType(),True),\n",
    "                         StructField(\"region_code\",IntegerType(),True),\n",
    "                         StructField(\"district_code\",IntegerType(),True),\n",
    "                         StructField(\"lga\",StringType(),True),\n",
    "                         StructField(\"ward\",StringType(),True),\n",
    "                         StructField(\"population\",IntegerType(),True),\n",
    "                         StructField(\"public_meeting\",BooleanType(),True),\n",
    "                         StructField(\"recorded_by\",StringType(),True),\n",
    "                         StructField(\"scheme_management\",StringType(),True),\n",
    "                         StructField(\"scheme_name\",StringType(),True),\n",
    "                         StructField(\"permit\",BooleanType(),True),\n",
    "                         StructField(\"construction_year\",IntegerType(),True),\n",
    "                         StructField(\"extraction_type\",StringType(),True),\n",
    "                         StructField(\"extraction_type_group\",StringType(),True),\n",
    "                         StructField(\"extraction_type_class\",StringType(),True),\n",
    "                         StructField(\"management\",StringType(),True),\n",
    "                         StructField(\"management_group\",StringType(),True),\n",
    "                         StructField(\"payment\",StringType(),True),\n",
    "                         StructField(\"payment_type\",StringType(),True),\n",
    "                         StructField(\"water_quality\",StringType(),True),\n",
    "                         StructField(\"quality_group\",StringType(),True),\n",
    "                         StructField(\"quantity\",StringType(),True),\n",
    "                         StructField(\"quantity_group\",StringType(),True),\n",
    "                         StructField(\"source\",StringType(),True),\n",
    "                         StructField(\"source_type\",StringType(),True),\n",
    "                         StructField(\"source_class\",StringType(),True),\n",
    "                         StructField(\"waterpoint_type\",StringType(),True),\n",
    "                         StructField(\"waterpoint_type_group\",StringType(),True)\n",
    "])"
   ]
  },
  {
   "cell_type": "code",
   "execution_count": 16,
   "metadata": {
    "colab": {
     "base_uri": "https://localhost:8080/",
     "height": 124
    },
    "colab_type": "code",
    "executionInfo": {
     "elapsed": 7574,
     "status": "ok",
     "timestamp": 1576134704685,
     "user": {
      "displayName": "satya spandana",
      "photoUrl": "https://lh3.googleusercontent.com/a-/AAuE7mCfauLdOARtF3m31Q6IVCiPbXVRyVFWJ5wyIs_6x5Q=s64",
      "userId": "01603550593909639502"
     },
     "user_tz": -330
    },
    "id": "7kMaEzjBwtXk",
    "outputId": "032c9023-537e-47c6-9322-045de90b98a3"
   },
   "outputs": [
    {
     "data": {
      "text/plain": [
       "[Row(id=69572, amount_tsh=6000, date_recorded='2011-03-14', funder='Roman', gps_height=1390, installer='Roman', longitude=34.93809275, lalitude=-9.85632177, wpt_name='none', num_private=0, basin='Lake Nyasa', subvillage='Mnyusi B', region='Iringa', region_code=11, district_code=5, lga='Ludewa', ward='Mundindi', population=109, public_meeting=True, recorded_by='GeoData Consultants Ltd', scheme_management='VWC', scheme_name='Roman', permit=False, construction_year=1999, extraction_type='gravity', extraction_type_group='gravity', extraction_type_class='gravity', management='vwc', management_group='user-group', payment='pay annually', payment_type='annually', water_quality='soft', quality_group='good', quantity='enough', quantity_group='enough', source='spring', source_type='spring', source_class='groundwater', waterpoint_type='communal standpipe', waterpoint_type_group='communal standpipe'),\n",
       " Row(id=8776, amount_tsh=0, date_recorded='2013-03-06', funder='Grumeti', gps_height=1399, installer='GRUMETI', longitude=34.6987661, lalitude=-2.14746569, wpt_name='Zahanati', num_private=0, basin='Lake Victoria', subvillage='Nyamara', region='Mara', region_code=20, district_code=2, lga='Serengeti', ward='Natta', population=280, public_meeting=None, recorded_by='GeoData Consultants Ltd', scheme_management='Other', scheme_name=None, permit=True, construction_year=2010, extraction_type='gravity', extraction_type_group='gravity', extraction_type_class='gravity', management='wug', management_group='user-group', payment='never pay', payment_type='never pay', water_quality='soft', quality_group='good', quantity='insufficient', quantity_group='insufficient', source='rainwater harvesting', source_type='rainwater harvesting', source_class='surface', waterpoint_type='communal standpipe', waterpoint_type_group='communal standpipe'),\n",
       " Row(id=34310, amount_tsh=25, date_recorded='2013-02-25', funder='Lottery Club', gps_height=686, installer='World vision', longitude=37.46066446, lalitude=-3.82132853, wpt_name='Kwa Mahundi', num_private=0, basin='Pangani', subvillage='Majengo', region='Manyara', region_code=21, district_code=4, lga='Simanjiro', ward='Ngorika', population=250, public_meeting=True, recorded_by='GeoData Consultants Ltd', scheme_management='VWC', scheme_name='Nyumba ya mungu pipe scheme', permit=True, construction_year=2009, extraction_type='gravity', extraction_type_group='gravity', extraction_type_class='gravity', management='vwc', management_group='user-group', payment='pay per bucket', payment_type='per bucket', water_quality='soft', quality_group='good', quantity='enough', quantity_group='enough', source='dam', source_type='dam', source_class='surface', waterpoint_type='communal standpipe multiple', waterpoint_type_group='communal standpipe'),\n",
       " Row(id=67743, amount_tsh=0, date_recorded='2013-01-28', funder='Unicef', gps_height=263, installer='UNICEF', longitude=38.48616088, lalitude=-11.15529772, wpt_name='Zahanati Ya Nanyumbu', num_private=0, basin='Ruvuma / Southern Coast', subvillage='Mahakamani', region='Mtwara', region_code=90, district_code=63, lga='Nanyumbu', ward='Nanyumbu', population=58, public_meeting=True, recorded_by='GeoData Consultants Ltd', scheme_management='VWC', scheme_name=None, permit=True, construction_year=1986, extraction_type='submersible', extraction_type_group='submersible', extraction_type_class='submersible', management='vwc', management_group='user-group', payment='never pay', payment_type='never pay', water_quality='soft', quality_group='good', quantity='dry', quantity_group='dry', source='machine dbh', source_type='borehole', source_class='groundwater', waterpoint_type='communal standpipe multiple', waterpoint_type_group='communal standpipe'),\n",
       " Row(id=19728, amount_tsh=0, date_recorded='2011-07-13', funder='Action In A', gps_height=0, installer='Artisan', longitude=31.13084671, lalitude=-1.82535885, wpt_name='Shuleni', num_private=0, basin='Lake Victoria', subvillage='Kyanyamisa', region='Kagera', region_code=18, district_code=1, lga='Karagwe', ward='Nyakasimbi', population=0, public_meeting=True, recorded_by='GeoData Consultants Ltd', scheme_management=None, scheme_name=None, permit=True, construction_year=0, extraction_type='gravity', extraction_type_group='gravity', extraction_type_class='gravity', management='other', management_group='other', payment='never pay', payment_type='never pay', water_quality='soft', quality_group='good', quantity='seasonal', quantity_group='seasonal', source='rainwater harvesting', source_type='rainwater harvesting', source_class='surface', waterpoint_type='communal standpipe', waterpoint_type_group='communal standpipe')]"
      ]
     },
     "execution_count": 16,
     "metadata": {
      "tags": []
     },
     "output_type": "execute_result"
    }
   ],
   "source": [
    "# creating a dataframe with the csv and displaying the top 3 values\n",
    "label_data = spark.read.format(\"csv\") \\\n",
    "          .option(\"header\",\"true\") \\\n",
    "          .option(\"inferSchema\",\"true\") \\\n",
    "          .schema(label_dataSchema) \\\n",
    "          .load(\"waterpoint_data_values-1575881300405.csv\")\n",
    "label_data.head(5)"
   ]
  },
  {
   "cell_type": "code",
   "execution_count": 0,
   "metadata": {
    "colab": {},
    "colab_type": "code",
    "id": "QYK4t_fmwuP9"
   },
   "outputs": [],
   "source": [
    "#better representation in a tabular form\n",
    "label_data.createOrReplaceTempView(\"label_dataTable\")"
   ]
  },
  {
   "cell_type": "markdown",
   "metadata": {},
   "source": [
    "# Task2: Verify the row counts of the two dataFrames and check whether the counts are matching or not"
   ]
  },
  {
   "cell_type": "code",
   "execution_count": 18,
   "metadata": {
    "colab": {
     "base_uri": "https://localhost:8080/",
     "height": 52
    },
    "colab_type": "code",
    "executionInfo": {
     "elapsed": 1828,
     "status": "ok",
     "timestamp": 1576134710426,
     "user": {
      "displayName": "satya spandana",
      "photoUrl": "https://lh3.googleusercontent.com/a-/AAuE7mCfauLdOARtF3m31Q6IVCiPbXVRyVFWJ5wyIs_6x5Q=s64",
      "userId": "01603550593909639502"
     },
     "user_tz": -330
    },
    "id": "fNZrsmaA-V5i",
    "outputId": "9bae4c1a-67c0-43ac-bcb5-7d3805ba24ea"
   },
   "outputs": [
    {
     "name": "stdout",
     "output_type": "stream",
     "text": [
      "rows in label_data is 59400\n",
      "columns in label_data frame is 40\n"
     ]
    }
   ],
   "source": [
    "# priniting the num of rows and columns in the data\n",
    "print(\"rows in label_data is {}\".format(label_data.count()))\n",
    "print(\"columns in label_data frame is {}\".format(len(label_data.columns)))"
   ]
  },
  {
   "cell_type": "code",
   "execution_count": 19,
   "metadata": {
    "colab": {
     "base_uri": "https://localhost:8080/",
     "height": 52
    },
    "colab_type": "code",
    "executionInfo": {
     "elapsed": 1335,
     "status": "ok",
     "timestamp": 1576134712762,
     "user": {
      "displayName": "satya spandana",
      "photoUrl": "https://lh3.googleusercontent.com/a-/AAuE7mCfauLdOARtF3m31Q6IVCiPbXVRyVFWJ5wyIs_6x5Q=s64",
      "userId": "01603550593909639502"
     },
     "user_tz": -330
    },
    "id": "x3klbmb_-V8y",
    "outputId": "ef2d0844-cb63-41d1-b6f9-5622eef0f35a"
   },
   "outputs": [
    {
     "name": "stdout",
     "output_type": "stream",
     "text": [
      "rows in water_data is 59400\n",
      "columns in water_data frame is 2\n"
     ]
    }
   ],
   "source": [
    "# priniting the num of rows and columns in the data\n",
    "print(\"rows in water_data is {}\".format(water_data.count()))\n",
    "print(\"columns in water_data frame is {}\".format(len(water_data.columns)))"
   ]
  },
  {
   "cell_type": "markdown",
   "metadata": {},
   "source": [
    "# Task3: Verify first few rows of both the dataFrames and identify the common column name (key)."
   ]
  },
  {
   "cell_type": "code",
   "execution_count": 20,
   "metadata": {
    "colab": {
     "base_uri": "https://localhost:8080/",
     "height": 245
    },
    "colab_type": "code",
    "executionInfo": {
     "elapsed": 1198,
     "status": "ok",
     "timestamp": 1576134715325,
     "user": {
      "displayName": "satya spandana",
      "photoUrl": "https://lh3.googleusercontent.com/a-/AAuE7mCfauLdOARtF3m31Q6IVCiPbXVRyVFWJ5wyIs_6x5Q=s64",
      "userId": "01603550593909639502"
     },
     "user_tz": -330
    },
    "id": "6OzE9DlZ-M9r",
    "outputId": "3133efe8-945d-468e-f49b-156e1150239f"
   },
   "outputs": [
    {
     "name": "stdout",
     "output_type": "stream",
     "text": [
      "The top rows of the label_data are :\n",
      "+-----+----------+-------------+------------+----------+------------+-----------+------------+--------------------+-----------+--------------------+----------+-------+-----------+-------------+---------+----------+----------+--------------+--------------------+-----------------+--------------------+------+-----------------+---------------+---------------------+---------------------+----------+----------------+--------------+------------+-------------+-------------+------------+--------------+--------------------+--------------------+------------+--------------------+---------------------+\n",
      "|   id|amount_tsh|date_recorded|      funder|gps_height|   installer|  longitude|    lalitude|            wpt_name|num_private|               basin|subvillage| region|region_code|district_code|      lga|      ward|population|public_meeting|         recorded_by|scheme_management|         scheme_name|permit|construction_year|extraction_type|extraction_type_group|extraction_type_class|management|management_group|       payment|payment_type|water_quality|quality_group|    quantity|quantity_group|              source|         source_type|source_class|     waterpoint_type|waterpoint_type_group|\n",
      "+-----+----------+-------------+------------+----------+------------+-----------+------------+--------------------+-----------+--------------------+----------+-------+-----------+-------------+---------+----------+----------+--------------+--------------------+-----------------+--------------------+------+-----------------+---------------+---------------------+---------------------+----------+----------------+--------------+------------+-------------+-------------+------------+--------------+--------------------+--------------------+------------+--------------------+---------------------+\n",
      "|69572|      6000|   2011-03-14|       Roman|      1390|       Roman|34.93809275| -9.85632177|                none|          0|          Lake Nyasa|  Mnyusi B| Iringa|         11|            5|   Ludewa|  Mundindi|       109|          true|GeoData Consultan...|              VWC|               Roman| false|             1999|        gravity|              gravity|              gravity|       vwc|      user-group|  pay annually|    annually|         soft|         good|      enough|        enough|              spring|              spring| groundwater|  communal standpipe|   communal standpipe|\n",
      "| 8776|         0|   2013-03-06|     Grumeti|      1399|     GRUMETI| 34.6987661| -2.14746569|            Zahanati|          0|       Lake Victoria|   Nyamara|   Mara|         20|            2|Serengeti|     Natta|       280|          null|GeoData Consultan...|            Other|                null|  true|             2010|        gravity|              gravity|              gravity|       wug|      user-group|     never pay|   never pay|         soft|         good|insufficient|  insufficient|rainwater harvesting|rainwater harvesting|     surface|  communal standpipe|   communal standpipe|\n",
      "|34310|        25|   2013-02-25|Lottery Club|       686|World vision|37.46066446| -3.82132853|         Kwa Mahundi|          0|             Pangani|   Majengo|Manyara|         21|            4|Simanjiro|   Ngorika|       250|          true|GeoData Consultan...|              VWC|Nyumba ya mungu p...|  true|             2009|        gravity|              gravity|              gravity|       vwc|      user-group|pay per bucket|  per bucket|         soft|         good|      enough|        enough|                 dam|                 dam|     surface|communal standpip...|   communal standpipe|\n",
      "|67743|         0|   2013-01-28|      Unicef|       263|      UNICEF|38.48616088|-11.15529772|Zahanati Ya Nanyumbu|          0|Ruvuma / Southern...|Mahakamani| Mtwara|         90|           63| Nanyumbu|  Nanyumbu|        58|          true|GeoData Consultan...|              VWC|                null|  true|             1986|    submersible|          submersible|          submersible|       vwc|      user-group|     never pay|   never pay|         soft|         good|         dry|           dry|         machine dbh|            borehole| groundwater|communal standpip...|   communal standpipe|\n",
      "|19728|         0|   2011-07-13| Action In A|         0|     Artisan|31.13084671| -1.82535885|             Shuleni|          0|       Lake Victoria|Kyanyamisa| Kagera|         18|            1|  Karagwe|Nyakasimbi|         0|          true|GeoData Consultan...|             null|                null|  true|                0|        gravity|              gravity|              gravity|     other|           other|     never pay|   never pay|         soft|         good|    seasonal|      seasonal|rainwater harvesting|rainwater harvesting|     surface|  communal standpipe|   communal standpipe|\n",
      "+-----+----------+-------------+------------+----------+------------+-----------+------------+--------------------+-----------+--------------------+----------+-------+-----------+-------------+---------+----------+----------+--------------+--------------------+-----------------+--------------------+------+-----------------+---------------+---------------------+---------------------+----------+----------------+--------------+------------+-------------+-------------+------------+--------------+--------------------+--------------------+------------+--------------------+---------------------+\n",
      "only showing top 5 rows\n",
      "\n"
     ]
    }
   ],
   "source": [
    "print(\"The top rows of the label_data are :\")\n",
    "label_data.show(5)"
   ]
  },
  {
   "cell_type": "code",
   "execution_count": 21,
   "metadata": {
    "colab": {
     "base_uri": "https://localhost:8080/",
     "height": 225
    },
    "colab_type": "code",
    "executionInfo": {
     "elapsed": 954,
     "status": "ok",
     "timestamp": 1576134718843,
     "user": {
      "displayName": "satya spandana",
      "photoUrl": "https://lh3.googleusercontent.com/a-/AAuE7mCfauLdOARtF3m31Q6IVCiPbXVRyVFWJ5wyIs_6x5Q=s64",
      "userId": "01603550593909639502"
     },
     "user_tz": -330
    },
    "id": "D3mJfBCU-G7d",
    "outputId": "ebf095b1-92b1-4a19-8c5a-06c95a8832a4"
   },
   "outputs": [
    {
     "name": "stdout",
     "output_type": "stream",
     "text": [
      "The top rows of the water_data are :\n",
      "+-----+--------------+\n",
      "|   id|  status_group|\n",
      "+-----+--------------+\n",
      "|69572|    functional|\n",
      "| 8776|    functional|\n",
      "|34310|    functional|\n",
      "|67743|non functional|\n",
      "|19728|    functional|\n",
      "+-----+--------------+\n",
      "only showing top 5 rows\n",
      "\n"
     ]
    }
   ],
   "source": [
    "print(\"The top rows of the water_data are :\")\n",
    "water_data.show(5)"
   ]
  },
  {
   "cell_type": "markdown",
   "metadata": {},
   "source": [
    "# Task4: Create a DataFrame in cache by combining both the Data Frames using the above common\n",
    "column using broadcast join(key). "
   ]
  },
  {
   "cell_type": "markdown",
   "metadata": {},
   "source": [
    "# Task5: Verify the row counts after the combined Data Frame."
   ]
  },
  {
   "cell_type": "code",
   "execution_count": 0,
   "metadata": {
    "colab": {},
    "colab_type": "code",
    "id": "xLVWRpJPjxMa"
   },
   "outputs": [],
   "source": [
    "from pyspark.sql.functions import broadcast"
   ]
  },
  {
   "cell_type": "code",
   "execution_count": 0,
   "metadata": {
    "colab": {},
    "colab_type": "code",
    "id": "sbO_i_iF-hVL"
   },
   "outputs": [],
   "source": [
    "merged_data = label_data.join(broadcast(water_data), label_data.id == water_data.id).drop(water_data.id)"
   ]
  },
  {
   "cell_type": "code",
   "execution_count": 24,
   "metadata": {
    "colab": {
     "base_uri": "https://localhost:8080/",
     "height": 728
    },
    "colab_type": "code",
    "executionInfo": {
     "elapsed": 1040,
     "status": "ok",
     "timestamp": 1576134724727,
     "user": {
      "displayName": "satya spandana",
      "photoUrl": "https://lh3.googleusercontent.com/a-/AAuE7mCfauLdOARtF3m31Q6IVCiPbXVRyVFWJ5wyIs_6x5Q=s64",
      "userId": "01603550593909639502"
     },
     "user_tz": -330
    },
    "id": "mLdU3AA8X64X",
    "outputId": "7be8c77b-1049-4603-c3b8-77ae5d67c706"
   },
   "outputs": [
    {
     "data": {
      "text/plain": [
       "['id',\n",
       " 'amount_tsh',\n",
       " 'date_recorded',\n",
       " 'funder',\n",
       " 'gps_height',\n",
       " 'installer',\n",
       " 'longitude',\n",
       " 'lalitude',\n",
       " 'wpt_name',\n",
       " 'num_private',\n",
       " 'basin',\n",
       " 'subvillage',\n",
       " 'region',\n",
       " 'region_code',\n",
       " 'district_code',\n",
       " 'lga',\n",
       " 'ward',\n",
       " 'population',\n",
       " 'public_meeting',\n",
       " 'recorded_by',\n",
       " 'scheme_management',\n",
       " 'scheme_name',\n",
       " 'permit',\n",
       " 'construction_year',\n",
       " 'extraction_type',\n",
       " 'extraction_type_group',\n",
       " 'extraction_type_class',\n",
       " 'management',\n",
       " 'management_group',\n",
       " 'payment',\n",
       " 'payment_type',\n",
       " 'water_quality',\n",
       " 'quality_group',\n",
       " 'quantity',\n",
       " 'quantity_group',\n",
       " 'source',\n",
       " 'source_type',\n",
       " 'source_class',\n",
       " 'waterpoint_type',\n",
       " 'waterpoint_type_group',\n",
       " 'status_group']"
      ]
     },
     "execution_count": 24,
     "metadata": {
      "tags": []
     },
     "output_type": "execute_result"
    }
   ],
   "source": [
    "merged_data.columns"
   ]
  },
  {
   "cell_type": "code",
   "execution_count": 25,
   "metadata": {
    "colab": {
     "base_uri": "https://localhost:8080/",
     "height": 228
    },
    "colab_type": "code",
    "executionInfo": {
     "elapsed": 2261,
     "status": "ok",
     "timestamp": 1576134728015,
     "user": {
      "displayName": "satya spandana",
      "photoUrl": "https://lh3.googleusercontent.com/a-/AAuE7mCfauLdOARtF3m31Q6IVCiPbXVRyVFWJ5wyIs_6x5Q=s64",
      "userId": "01603550593909639502"
     },
     "user_tz": -330
    },
    "id": "TgCD0NYplC1W",
    "outputId": "6ce29f2a-a712-429a-ac23-40ffc10536e0"
   },
   "outputs": [
    {
     "name": "stdout",
     "output_type": "stream",
     "text": [
      "+-----+----------+-------------+------------+----------+------------+-----------+------------+--------------------+-----------+--------------------+----------+-------+-----------+-------------+---------+----------+----------+--------------+--------------------+-----------------+--------------------+------+-----------------+---------------+---------------------+---------------------+----------+----------------+--------------+------------+-------------+-------------+------------+--------------+--------------------+--------------------+------------+--------------------+---------------------+--------------+\n",
      "|   id|amount_tsh|date_recorded|      funder|gps_height|   installer|  longitude|    lalitude|            wpt_name|num_private|               basin|subvillage| region|region_code|district_code|      lga|      ward|population|public_meeting|         recorded_by|scheme_management|         scheme_name|permit|construction_year|extraction_type|extraction_type_group|extraction_type_class|management|management_group|       payment|payment_type|water_quality|quality_group|    quantity|quantity_group|              source|         source_type|source_class|     waterpoint_type|waterpoint_type_group|  status_group|\n",
      "+-----+----------+-------------+------------+----------+------------+-----------+------------+--------------------+-----------+--------------------+----------+-------+-----------+-------------+---------+----------+----------+--------------+--------------------+-----------------+--------------------+------+-----------------+---------------+---------------------+---------------------+----------+----------------+--------------+------------+-------------+-------------+------------+--------------+--------------------+--------------------+------------+--------------------+---------------------+--------------+\n",
      "|69572|      6000|   2011-03-14|       Roman|      1390|       Roman|34.93809275| -9.85632177|                none|          0|          Lake Nyasa|  Mnyusi B| Iringa|         11|            5|   Ludewa|  Mundindi|       109|          true|GeoData Consultan...|              VWC|               Roman| false|             1999|        gravity|              gravity|              gravity|       vwc|      user-group|  pay annually|    annually|         soft|         good|      enough|        enough|              spring|              spring| groundwater|  communal standpipe|   communal standpipe|    functional|\n",
      "| 8776|         0|   2013-03-06|     Grumeti|      1399|     GRUMETI| 34.6987661| -2.14746569|            Zahanati|          0|       Lake Victoria|   Nyamara|   Mara|         20|            2|Serengeti|     Natta|       280|          null|GeoData Consultan...|            Other|                null|  true|             2010|        gravity|              gravity|              gravity|       wug|      user-group|     never pay|   never pay|         soft|         good|insufficient|  insufficient|rainwater harvesting|rainwater harvesting|     surface|  communal standpipe|   communal standpipe|    functional|\n",
      "|34310|        25|   2013-02-25|Lottery Club|       686|World vision|37.46066446| -3.82132853|         Kwa Mahundi|          0|             Pangani|   Majengo|Manyara|         21|            4|Simanjiro|   Ngorika|       250|          true|GeoData Consultan...|              VWC|Nyumba ya mungu p...|  true|             2009|        gravity|              gravity|              gravity|       vwc|      user-group|pay per bucket|  per bucket|         soft|         good|      enough|        enough|                 dam|                 dam|     surface|communal standpip...|   communal standpipe|    functional|\n",
      "|67743|         0|   2013-01-28|      Unicef|       263|      UNICEF|38.48616088|-11.15529772|Zahanati Ya Nanyumbu|          0|Ruvuma / Southern...|Mahakamani| Mtwara|         90|           63| Nanyumbu|  Nanyumbu|        58|          true|GeoData Consultan...|              VWC|                null|  true|             1986|    submersible|          submersible|          submersible|       vwc|      user-group|     never pay|   never pay|         soft|         good|         dry|           dry|         machine dbh|            borehole| groundwater|communal standpip...|   communal standpipe|non functional|\n",
      "|19728|         0|   2011-07-13| Action In A|         0|     Artisan|31.13084671| -1.82535885|             Shuleni|          0|       Lake Victoria|Kyanyamisa| Kagera|         18|            1|  Karagwe|Nyakasimbi|         0|          true|GeoData Consultan...|             null|                null|  true|                0|        gravity|              gravity|              gravity|     other|           other|     never pay|   never pay|         soft|         good|    seasonal|      seasonal|rainwater harvesting|rainwater harvesting|     surface|  communal standpipe|   communal standpipe|    functional|\n",
      "+-----+----------+-------------+------------+----------+------------+-----------+------------+--------------------+-----------+--------------------+----------+-------+-----------+-------------+---------+----------+----------+--------------+--------------------+-----------------+--------------------+------+-----------------+---------------+---------------------+---------------------+----------+----------------+--------------+------------+-------------+-------------+------------+--------------+--------------------+--------------------+------------+--------------------+---------------------+--------------+\n",
      "only showing top 5 rows\n",
      "\n"
     ]
    }
   ],
   "source": [
    "merged_data.show(5)"
   ]
  },
  {
   "cell_type": "code",
   "execution_count": 26,
   "metadata": {
    "colab": {
     "base_uri": "https://localhost:8080/",
     "height": 52
    },
    "colab_type": "code",
    "executionInfo": {
     "elapsed": 2597,
     "status": "ok",
     "timestamp": 1576134732344,
     "user": {
      "displayName": "satya spandana",
      "photoUrl": "https://lh3.googleusercontent.com/a-/AAuE7mCfauLdOARtF3m31Q6IVCiPbXVRyVFWJ5wyIs_6x5Q=s64",
      "userId": "01603550593909639502"
     },
     "user_tz": -330
    },
    "id": "GLcV-ei1_KZq",
    "outputId": "23011aae-833d-4e67-ef4e-d7a447e0e33a"
   },
   "outputs": [
    {
     "name": "stdout",
     "output_type": "stream",
     "text": [
      "rows in merged_data is 59400\n",
      "columns in merged_data frame is 41\n"
     ]
    }
   ],
   "source": [
    "# priniting the num of rows and columns in the data\n",
    "print(\"rows in merged_data is {}\".format(merged_data.count()))\n",
    "print(\"columns in merged_data frame is {}\".format(len(merged_data.columns)))"
   ]
  },
  {
   "cell_type": "code",
   "execution_count": 0,
   "metadata": {
    "colab": {},
    "colab_type": "code",
    "id": "opC1G4ngAtf1"
   },
   "outputs": [],
   "source": [
    "#better representation in a tabular form\n",
    "merged_data.createOrReplaceTempView(\"merged_dataTable\")"
   ]
  },
  {
   "cell_type": "code",
   "execution_count": 28,
   "metadata": {
    "colab": {
     "base_uri": "https://localhost:8080/",
     "height": 228
    },
    "colab_type": "code",
    "executionInfo": {
     "elapsed": 1655,
     "status": "ok",
     "timestamp": 1576134733222,
     "user": {
      "displayName": "satya spandana",
      "photoUrl": "https://lh3.googleusercontent.com/a-/AAuE7mCfauLdOARtF3m31Q6IVCiPbXVRyVFWJ5wyIs_6x5Q=s64",
      "userId": "01603550593909639502"
     },
     "user_tz": -330
    },
    "id": "qF61w0kX-ggB",
    "outputId": "aedee7f5-b5e7-404b-a301-6b59cf11c3aa"
   },
   "outputs": [
    {
     "name": "stdout",
     "output_type": "stream",
     "text": [
      "+-----+----------+-------------+------------+----------+------------+-----------+------------+--------------------+-----------+--------------------+----------+-------+-----------+-------------+---------+----------+----------+--------------+--------------------+-----------------+--------------------+------+-----------------+---------------+---------------------+---------------------+----------+----------------+--------------+------------+-------------+-------------+------------+--------------+--------------------+--------------------+------------+--------------------+---------------------+--------------+\n",
      "|   id|amount_tsh|date_recorded|      funder|gps_height|   installer|  longitude|    lalitude|            wpt_name|num_private|               basin|subvillage| region|region_code|district_code|      lga|      ward|population|public_meeting|         recorded_by|scheme_management|         scheme_name|permit|construction_year|extraction_type|extraction_type_group|extraction_type_class|management|management_group|       payment|payment_type|water_quality|quality_group|    quantity|quantity_group|              source|         source_type|source_class|     waterpoint_type|waterpoint_type_group|  status_group|\n",
      "+-----+----------+-------------+------------+----------+------------+-----------+------------+--------------------+-----------+--------------------+----------+-------+-----------+-------------+---------+----------+----------+--------------+--------------------+-----------------+--------------------+------+-----------------+---------------+---------------------+---------------------+----------+----------------+--------------+------------+-------------+-------------+------------+--------------+--------------------+--------------------+------------+--------------------+---------------------+--------------+\n",
      "|69572|      6000|   2011-03-14|       Roman|      1390|       Roman|34.93809275| -9.85632177|                none|          0|          Lake Nyasa|  Mnyusi B| Iringa|         11|            5|   Ludewa|  Mundindi|       109|          true|GeoData Consultan...|              VWC|               Roman| false|             1999|        gravity|              gravity|              gravity|       vwc|      user-group|  pay annually|    annually|         soft|         good|      enough|        enough|              spring|              spring| groundwater|  communal standpipe|   communal standpipe|    functional|\n",
      "| 8776|         0|   2013-03-06|     Grumeti|      1399|     GRUMETI| 34.6987661| -2.14746569|            Zahanati|          0|       Lake Victoria|   Nyamara|   Mara|         20|            2|Serengeti|     Natta|       280|          null|GeoData Consultan...|            Other|                null|  true|             2010|        gravity|              gravity|              gravity|       wug|      user-group|     never pay|   never pay|         soft|         good|insufficient|  insufficient|rainwater harvesting|rainwater harvesting|     surface|  communal standpipe|   communal standpipe|    functional|\n",
      "|34310|        25|   2013-02-25|Lottery Club|       686|World vision|37.46066446| -3.82132853|         Kwa Mahundi|          0|             Pangani|   Majengo|Manyara|         21|            4|Simanjiro|   Ngorika|       250|          true|GeoData Consultan...|              VWC|Nyumba ya mungu p...|  true|             2009|        gravity|              gravity|              gravity|       vwc|      user-group|pay per bucket|  per bucket|         soft|         good|      enough|        enough|                 dam|                 dam|     surface|communal standpip...|   communal standpipe|    functional|\n",
      "|67743|         0|   2013-01-28|      Unicef|       263|      UNICEF|38.48616088|-11.15529772|Zahanati Ya Nanyumbu|          0|Ruvuma / Southern...|Mahakamani| Mtwara|         90|           63| Nanyumbu|  Nanyumbu|        58|          true|GeoData Consultan...|              VWC|                null|  true|             1986|    submersible|          submersible|          submersible|       vwc|      user-group|     never pay|   never pay|         soft|         good|         dry|           dry|         machine dbh|            borehole| groundwater|communal standpip...|   communal standpipe|non functional|\n",
      "|19728|         0|   2011-07-13| Action In A|         0|     Artisan|31.13084671| -1.82535885|             Shuleni|          0|       Lake Victoria|Kyanyamisa| Kagera|         18|            1|  Karagwe|Nyakasimbi|         0|          true|GeoData Consultan...|             null|                null|  true|                0|        gravity|              gravity|              gravity|     other|           other|     never pay|   never pay|         soft|         good|    seasonal|      seasonal|rainwater harvesting|rainwater harvesting|     surface|  communal standpipe|   communal standpipe|    functional|\n",
      "+-----+----------+-------------+------------+----------+------------+-----------+------------+--------------------+-----------+--------------------+----------+-------+-----------+-------------+---------+----------+----------+--------------+--------------------+-----------------+--------------------+------+-----------------+---------------+---------------------+---------------------+----------+----------------+--------------+------------+-------------+-------------+------------+--------------+--------------------+--------------------+------------+--------------------+---------------------+--------------+\n",
      "only showing top 5 rows\n",
      "\n"
     ]
    }
   ],
   "source": [
    "merged_data.show(5)"
   ]
  },
  {
   "cell_type": "markdown",
   "metadata": {},
   "source": [
    "# Task6: Verify the distribution for the target variable using Spark SQL and visualize the distribution using\n",
    "plots"
   ]
  },
  {
   "cell_type": "code",
   "execution_count": 29,
   "metadata": {
    "colab": {
     "base_uri": "https://localhost:8080/",
     "height": 156
    },
    "colab_type": "code",
    "executionInfo": {
     "elapsed": 4057,
     "status": "ok",
     "timestamp": 1576134740460,
     "user": {
      "displayName": "satya spandana",
      "photoUrl": "https://lh3.googleusercontent.com/a-/AAuE7mCfauLdOARtF3m31Q6IVCiPbXVRyVFWJ5wyIs_6x5Q=s64",
      "userId": "01603550593909639502"
     },
     "user_tz": -330
    },
    "id": "lgrWB2Px_rkb",
    "outputId": "d8b94326-fce6-46c7-ae7b-372e06551e8f"
   },
   "outputs": [
    {
     "name": "stdout",
     "output_type": "stream",
     "text": [
      "+--------------------+-----+\n",
      "|        status_group|Count|\n",
      "+--------------------+-----+\n",
      "|functional needs ...| 4317|\n",
      "|          functional|32259|\n",
      "|      non functional|22824|\n",
      "+--------------------+-----+\n",
      "\n"
     ]
    }
   ],
   "source": [
    "target = spark.sql(\"\"\"\n",
    "SELECT status_group, COUNT(*) AS Count\n",
    "FROM merged_dataTable\n",
    "GROUP BY status_group\n",
    "\"\"\")\n",
    "\n",
    "target.show()\n",
    "#merged_data.groupBy(\"status_group\").count().show()"
   ]
  },
  {
   "cell_type": "code",
   "execution_count": 30,
   "metadata": {
    "colab": {
     "base_uri": "https://localhost:8080/",
     "height": 546
    },
    "colab_type": "code",
    "executionInfo": {
     "elapsed": 8895,
     "status": "ok",
     "timestamp": 1576134753267,
     "user": {
      "displayName": "satya spandana",
      "photoUrl": "https://lh3.googleusercontent.com/a-/AAuE7mCfauLdOARtF3m31Q6IVCiPbXVRyVFWJ5wyIs_6x5Q=s64",
      "userId": "01603550593909639502"
     },
     "user_tz": -330
    },
    "id": "m3taSQKN_rni",
    "outputId": "1b6a8b8e-69b5-4eba-d75c-1930198b99ed"
   },
   "outputs": [
    {
     "data": {
      "text/html": [
       "\n",
       "        <iframe\n",
       "            width=\"100%\"\n",
       "            height=\"525px\"\n",
       "            src=\"https://plot.ly/~nooknaga/126.embed\"\n",
       "            frameborder=\"0\"\n",
       "            allowfullscreen\n",
       "        ></iframe>\n",
       "        "
      ],
      "text/plain": [
       "<IPython.lib.display.IFrame at 0x7f52103a5f60>"
      ]
     },
     "execution_count": 30,
     "metadata": {
      "tags": []
     },
     "output_type": "execute_result"
    }
   ],
   "source": [
    "pdDF = target.toPandas()\n",
    "data = [\n",
    "    go.Bar(\n",
    "        x=pdDF['status_group'], # assign x as the dataframe column 'x'\n",
    "        y=pdDF['Count']\n",
    "    )\n",
    "]\n",
    "layout = go.Layout(title='Distribution of the target variable : status_group',)\n",
    "fig = go.Figure(data=data, layout=layout)\n",
    "py.iplot(fig, filename='Target variable distribution')"
   ]
  },
  {
   "cell_type": "markdown",
   "metadata": {},
   "source": [
    "# Task7: For the categorical variables\n",
    "‘construction_year’,’water_quality’,’source_class’,’scheme_management’,’waterpoint_type_group’,\n",
    "find the distribution of these variables with the target variable ‘status_group’. Visualize the data for\n",
    "these data frames."
   ]
  },
  {
   "cell_type": "code",
   "execution_count": 47,
   "metadata": {
    "colab": {
     "base_uri": "https://localhost:8080/",
     "height": 176
    },
    "colab_type": "code",
    "executionInfo": {
     "elapsed": 3757,
     "status": "ok",
     "timestamp": 1576136283694,
     "user": {
      "displayName": "satya spandana",
      "photoUrl": "https://lh3.googleusercontent.com/a-/AAuE7mCfauLdOARtF3m31Q6IVCiPbXVRyVFWJ5wyIs_6x5Q=s64",
      "userId": "01603550593909639502"
     },
     "user_tz": -330
    },
    "id": "HsT5uom0BGcn",
    "outputId": "362e79de-a206-4441-e549-067072fd246c"
   },
   "outputs": [
    {
     "name": "stdout",
     "output_type": "stream",
     "text": [
      "+------------------------------+-----+----+----+----+----+----+----+----+----+----+----+----+----+----+----+----+----+----+----+----+----+----+----+----+----+----+----+----+----+----+----+----+----+----+----+----+----+----+----+----+----+----+----+----+----+----+----+----+----+----+----+----+----+----+----+\n",
      "|status_group_construction_year|    0|1960|1961|1962|1963|1964|1965|1966|1967|1968|1969|1970|1971|1972|1973|1974|1975|1976|1977|1978|1979|1980|1981|1982|1983|1984|1985|1986|1987|1988|1989|1990|1991|1992|1993|1994|1995|1996|1997|1998|1999|2000|2001|2002|2003|2004|2005|2006|2007|2008|2009|2010|2011|2012|2013|\n",
      "+------------------------------+-----+----+----+----+----+----+----+----+----+----+----+----+----+----+----+----+----+----+----+----+----+----+----+----+----+----+----+----+----+----+----+----+----+----+----+----+----+----+----+----+----+----+----+----+----+----+----+----+----+----+----+----+----+----+----+\n",
      "|                    functional|10555|  24|   2|   7|  31|   7|  11|   6|  31|  22|  15|  99|  82| 178|  55| 234| 144|  85|  62| 426|  41| 258|  85| 236| 187| 365| 324| 212| 143| 245| 165| 466| 141| 361| 285| 380| 593| 386| 291| 542| 694|1279| 331| 692| 828| 704| 578| 883|1081|1839|1774|2023| 943| 726| 102|\n",
      "|                non functional| 8365|  72|  16|  22|  48|  32|   7|  11|  40|  51|  41| 297|  57| 462| 121| 403| 252| 277| 130| 514| 139| 493| 142| 454| 280| 348| 537| 188| 122| 234| 137| 429| 166| 238| 289| 315| 346| 377| 286| 337| 238| 676| 172| 325| 387| 349| 344| 453| 390| 647| 621| 532| 235| 307|  73|\n",
      "|          functional needs ...| 1789|   6|   3|   1|   6|   1|   1|   0|  17|   4|   3|  15|   6|  68|   8|  39|  41|  52|  10|  97|  12|  60|  11|  54|  21|  66|  84|  34|  37|  42|  14|  59|  17|  41|  34|  43|  75|  48|  67|  87|  47| 136|  37|  58|  71|  70|  89| 135| 116| 127| 138|  90|  78|  51|   1|\n",
      "+------------------------------+-----+----+----+----+----+----+----+----+----+----+----+----+----+----+----+----+----+----+----+----+----+----+----+----+----+----+----+----+----+----+----+----+----+----+----+----+----+----+----+----+----+----+----+----+----+----+----+----+----+----+----+----+----+----+----+\n",
      "\n"
     ]
    }
   ],
   "source": [
    "  # variation of  with respect to target variable\n",
    "constructionDF =  merged_data.crosstab('status_group','construction_year').show(5)"
   ]
  },
  {
   "cell_type": "code",
   "execution_count": 41,
   "metadata": {
    "colab": {
     "base_uri": "https://localhost:8080/",
     "height": 243
    },
    "colab_type": "code",
    "executionInfo": {
     "elapsed": 1408,
     "status": "ok",
     "timestamp": 1576135453863,
     "user": {
      "displayName": "satya spandana",
      "photoUrl": "https://lh3.googleusercontent.com/a-/AAuE7mCfauLdOARtF3m31Q6IVCiPbXVRyVFWJ5wyIs_6x5Q=s64",
      "userId": "01603550593909639502"
     },
     "user_tz": -330
    },
    "id": "Kr04OXXUrKvZ",
    "outputId": "f3276e4d-fb5e-4182-f860-7db0ccea9681"
   },
   "outputs": [
    {
     "name": "stdout",
     "output_type": "stream",
     "text": [
      "+--------------+-----------------+\n",
      "|  status_group|construction_year|\n",
      "+--------------+-----------------+\n",
      "|    functional|             1999|\n",
      "|    functional|             2010|\n",
      "|    functional|             2009|\n",
      "|non functional|             1986|\n",
      "|    functional|                0|\n",
      "|    functional|             2009|\n",
      "|non functional|                0|\n",
      "+--------------+-----------------+\n",
      "only showing top 7 rows\n",
      "\n"
     ]
    }
   ],
   "source": [
    "pdDF = resultDF.toPandas()\n",
    "pdDF.columns = ['functional', 'non-functional', 'needfunctional needs repair']\n",
    "trace1 = go.Bar(\n",
    "    x=['Opted for TD', 'Not Opted for TD'],\n",
    "    y=pdDF['No_Existing_Loans'],\n",
    "    name='No Existing Loans'\n",
    ")\n",
    "\n",
    "trace2 = go.Bar(\n",
    "    x=['Opted for TD', 'Not Opted for TD'],\n",
    "    y=pdDF['Existing_Loan'],\n",
    "    name='Existing Loans'\n",
    ")\n",
    "\n",
    "data = [trace1, trace2]\n",
    "layout = go.Layout(\n",
    "    title='Term Deposit Accounts vs Existing Loan Counts',\n",
    "    barmode='group'\n",
    ")\n",
    "\n",
    "fig = go.Figure(data=data, layout=layout)\n",
    "py.iplot(fig, filename='plot_2')"
   ]
  },
  {
   "cell_type": "code",
   "execution_count": 0,
   "metadata": {
    "colab": {
     "base_uri": "https://localhost:8080/",
     "height": 243
    },
    "colab_type": "code",
    "executionInfo": {
     "elapsed": 2406,
     "status": "ok",
     "timestamp": 1576005754678,
     "user": {
      "displayName": "satya spandana",
      "photoUrl": "https://lh3.googleusercontent.com/a-/AAuE7mCfauLdOARtF3m31Q6IVCiPbXVRyVFWJ5wyIs_6x5Q=s64",
      "userId": "01603550593909639502"
     },
     "user_tz": -330
    },
    "id": "JCxtHXuh8bt1",
    "outputId": "28bb7ab2-7db6-4f6f-9e83-dace63d255fe"
   },
   "outputs": [
    {
     "name": "stdout",
     "output_type": "stream",
     "text": [
      "+--------------------------+----------+-----------------------+--------------+\n",
      "|water_quality_status_group|functional|functional needs repair|non functional|\n",
      "+--------------------------+----------+-----------------------+--------------+\n",
      "|                  coloured|       246|                     54|           190|\n",
      "|                   unknown|       264|                     35|          1577|\n",
      "|                     milky|       438|                     14|           352|\n",
      "|                      soft|     28760|                   3904|         18154|\n",
      "|        fluoride abandoned|         6|                      0|            11|\n",
      "|                  fluoride|       151|                     13|            36|\n",
      "|                     salty|      2220|                    225|          2411|\n",
      "|           salty abandoned|       174|                     72|            93|\n",
      "+--------------------------+----------+-----------------------+--------------+\n",
      "\n"
     ]
    }
   ],
   "source": [
    "water_quality = merged_data.crosstab('water_quality','status_group').show()"
   ]
  },
  {
   "cell_type": "code",
   "execution_count": 0,
   "metadata": {
    "colab": {
     "base_uri": "https://localhost:8080/",
     "height": 156
    },
    "colab_type": "code",
    "executionInfo": {
     "elapsed": 2560,
     "status": "ok",
     "timestamp": 1576005758766,
     "user": {
      "displayName": "satya spandana",
      "photoUrl": "https://lh3.googleusercontent.com/a-/AAuE7mCfauLdOARtF3m31Q6IVCiPbXVRyVFWJ5wyIs_6x5Q=s64",
      "userId": "01603550593909639502"
     },
     "user_tz": -330
    },
    "id": "37VXgAsK8bwP",
    "outputId": "1f0b2cc6-1ab1-474f-d711-55564cf40f68"
   },
   "outputs": [
    {
     "name": "stdout",
     "output_type": "stream",
     "text": [
      "+-------------------------+----------+-----------------------+--------------+\n",
      "|source_class_status_group|functional|functional needs repair|non functional|\n",
      "+-------------------------+----------+-----------------------+--------------+\n",
      "|              groundwater|     24835|                   2741|         18218|\n",
      "|                  surface|      7266|                   1571|          4491|\n",
      "|                  unknown|       158|                      5|           115|\n",
      "+-------------------------+----------+-----------------------+--------------+\n",
      "\n"
     ]
    }
   ],
   "source": [
    "source_class = merged_data.crosstab('source_class','status_group').show()"
   ]
  },
  {
   "cell_type": "code",
   "execution_count": 0,
   "metadata": {
    "colab": {
     "base_uri": "https://localhost:8080/",
     "height": 329
    },
    "colab_type": "code",
    "executionInfo": {
     "elapsed": 2748,
     "status": "ok",
     "timestamp": 1576005760565,
     "user": {
      "displayName": "satya spandana",
      "photoUrl": "https://lh3.googleusercontent.com/a-/AAuE7mCfauLdOARtF3m31Q6IVCiPbXVRyVFWJ5wyIs_6x5Q=s64",
      "userId": "01603550593909639502"
     },
     "user_tz": -330
    },
    "id": "4JMS6gfv8by-",
    "outputId": "54bc8a98-33f9-4a44-a3ac-7745d098b8fc"
   },
   "outputs": [
    {
     "name": "stdout",
     "output_type": "stream",
     "text": [
      "+------------------------------+----------+-----------------------+--------------+\n",
      "|scheme_management_status_group|functional|functional needs repair|non functional|\n",
      "+------------------------------+----------+-----------------------+--------------+\n",
      "|                          null|      1873|                    223|          1781|\n",
      "|                         Other|       458|                     22|           286|\n",
      "|                       Company|       534|                     37|           490|\n",
      "|                   Water Board|      2053|                    111|           584|\n",
      "|                           VWC|     18960|                   2334|         15499|\n",
      "|                           WUA|      1995|                    239|           649|\n",
      "|                           WUG|      3006|                    672|          1528|\n",
      "|                           SWC|        20|                      1|            76|\n",
      "|              Private operator|       729|                     23|           311|\n",
      "|               Water authority|      1618|                    448|          1087|\n",
      "|                    Parastatal|       966|                    202|           512|\n",
      "|                          None|         1|                      0|             0|\n",
      "|                         Trust|        46|                      5|            21|\n",
      "+------------------------------+----------+-----------------------+--------------+\n",
      "\n"
     ]
    }
   ],
   "source": [
    "scheme_management = merged_data.crosstab('scheme_management','status_group').show()"
   ]
  },
  {
   "cell_type": "code",
   "execution_count": 0,
   "metadata": {
    "colab": {
     "base_uri": "https://localhost:8080/",
     "height": 208
    },
    "colab_type": "code",
    "executionInfo": {
     "elapsed": 2764,
     "status": "ok",
     "timestamp": 1576005762739,
     "user": {
      "displayName": "satya spandana",
      "photoUrl": "https://lh3.googleusercontent.com/a-/AAuE7mCfauLdOARtF3m31Q6IVCiPbXVRyVFWJ5wyIs_6x5Q=s64",
      "userId": "01603550593909639502"
     },
     "user_tz": -330
    },
    "id": "eJZYjM948b1q",
    "outputId": "778318e0-7605-4d6c-8f24-37a3518d45c3"
   },
   "outputs": [
    {
     "name": "stdout",
     "output_type": "stream",
     "text": [
      "+----------------------------------+----------+-----------------------+--------------+\n",
      "|waterpoint_type_group_status_group|functional|functional needs repair|non functional|\n",
      "+----------------------------------+----------+-----------------------+--------------+\n",
      "|                               dam|         6|                      0|             1|\n",
      "|                   improved spring|       563|                     85|           136|\n",
      "|                communal standpipe|     19961|                   2908|         11756|\n",
      "|                         hand pump|     10805|                   1029|          5654|\n",
      "|                     cattle trough|        84|                      2|            30|\n",
      "|                             other|       840|                    293|          5247|\n",
      "+----------------------------------+----------+-----------------------+--------------+\n",
      "\n"
     ]
    }
   ],
   "source": [
    "waterpoint_type_group = merged_data.crosstab('waterpoint_type_group','status_group').show()"
   ]
  },
  {
   "cell_type": "markdown",
   "metadata": {},
   "source": [
    "# Task8: Create new columns year,date and month from the existing date column on the dataframe. Use\n",
    "this new dataframe for further data analysis"
   ]
  },
  {
   "cell_type": "code",
   "execution_count": 0,
   "metadata": {
    "colab": {
     "base_uri": "https://localhost:8080/",
     "height": 176
    },
    "colab_type": "code",
    "executionInfo": {
     "elapsed": 1111,
     "status": "ok",
     "timestamp": 1576058200060,
     "user": {
      "displayName": "satya spandana",
      "photoUrl": "https://lh3.googleusercontent.com/a-/AAuE7mCfauLdOARtF3m31Q6IVCiPbXVRyVFWJ5wyIs_6x5Q=s64",
      "userId": "01603550593909639502"
     },
     "user_tz": -330
    },
    "id": "mhOcGlxtRwxP",
    "outputId": "544db498-3208-45eb-eb77-6150fad4cacc"
   },
   "outputs": [
    {
     "name": "stdout",
     "output_type": "stream",
     "text": [
      "+-----+----------+-------------+-------+----------+---------+-----------+-----------+--------+-----------+-------------+----------+------+-----------+-------------+---------+--------+----------+--------------+--------------------+-----------------+-----------+------+-----------------+---------------+---------------------+---------------------+----------+----------------+------------+------------+-------------+-------------+------------+--------------+--------------------+--------------------+------------+------------------+---------------------+------------+\n",
      "|   id|amount_tsh|date_recorded| funder|gps_height|installer|  longitude|   lalitude|wpt_name|num_private|        basin|subvillage|region|region_code|district_code|      lga|    ward|population|public_meeting|         recorded_by|scheme_management|scheme_name|permit|construction_year|extraction_type|extraction_type_group|extraction_type_class|management|management_group|     payment|payment_type|water_quality|quality_group|    quantity|quantity_group|              source|         source_type|source_class|   waterpoint_type|waterpoint_type_group|status_group|\n",
      "+-----+----------+-------------+-------+----------+---------+-----------+-----------+--------+-----------+-------------+----------+------+-----------+-------------+---------+--------+----------+--------------+--------------------+-----------------+-----------+------+-----------------+---------------+---------------------+---------------------+----------+----------------+------------+------------+-------------+-------------+------------+--------------+--------------------+--------------------+------------+------------------+---------------------+------------+\n",
      "|69572|      6000|   2011-03-14|  Roman|      1390|    Roman|34.93809275|-9.85632177|    none|          0|   Lake Nyasa|  Mnyusi B|Iringa|         11|            5|   Ludewa|Mundindi|       109|          true|GeoData Consultan...|              VWC|      Roman| false|             1999|        gravity|              gravity|              gravity|       vwc|      user-group|pay annually|    annually|         soft|         good|      enough|        enough|              spring|              spring| groundwater|communal standpipe|   communal standpipe|  functional|\n",
      "| 8776|         0|   2013-03-06|Grumeti|      1399|  GRUMETI| 34.6987661|-2.14746569|Zahanati|          0|Lake Victoria|   Nyamara|  Mara|         20|            2|Serengeti|   Natta|       280|          null|GeoData Consultan...|            Other|       null|  true|             2010|        gravity|              gravity|              gravity|       wug|      user-group|   never pay|   never pay|         soft|         good|insufficient|  insufficient|rainwater harvesting|rainwater harvesting|     surface|communal standpipe|   communal standpipe|  functional|\n",
      "+-----+----------+-------------+-------+----------+---------+-----------+-----------+--------+-----------+-------------+----------+------+-----------+-------------+---------+--------+----------+--------------+--------------------+-----------------+-----------+------+-----------------+---------------+---------------------+---------------------+----------+----------------+------------+------------+-------------+-------------+------------+--------------+--------------------+--------------------+------------+------------------+---------------------+------------+\n",
      "only showing top 2 rows\n",
      "\n"
     ]
    }
   ],
   "source": [
    "merged_data.show(2)"
   ]
  },
  {
   "cell_type": "code",
   "execution_count": 0,
   "metadata": {
    "colab": {},
    "colab_type": "code",
    "id": "uMl2Ame9Rw0n"
   },
   "outputs": [],
   "source": [
    "from pyspark.sql.functions import month,year,dayofweek\n",
    "\n",
    "merged_data = merged_data.withColumn(\"month_recorded\",month(\"date_recorded\"))\\\n",
    ".withColumn(\"year_recorded\",year(\"date_recorded\"))\\\n",
    ".withColumn(\"date\",dayofweek(\"date_recorded\"))"
   ]
  },
  {
   "cell_type": "code",
   "execution_count": 0,
   "metadata": {
    "colab": {
     "base_uri": "https://localhost:8080/",
     "height": 228
    },
    "colab_type": "code",
    "executionInfo": {
     "elapsed": 1264,
     "status": "ok",
     "timestamp": 1576058202459,
     "user": {
      "displayName": "satya spandana",
      "photoUrl": "https://lh3.googleusercontent.com/a-/AAuE7mCfauLdOARtF3m31Q6IVCiPbXVRyVFWJ5wyIs_6x5Q=s64",
      "userId": "01603550593909639502"
     },
     "user_tz": -330
    },
    "id": "r4O9QTEfRwu_",
    "outputId": "018f4fa0-195f-48d6-bef3-5c1ffd652252"
   },
   "outputs": [
    {
     "name": "stdout",
     "output_type": "stream",
     "text": [
      "+-----+----------+-------------+------------+----------+------------+-----------+------------+--------------------+-----------+--------------------+----------+-------+-----------+-------------+---------+----------+----------+--------------+--------------------+-----------------+--------------------+------+-----------------+---------------+---------------------+---------------------+----------+----------------+--------------+------------+-------------+-------------+------------+--------------+--------------------+--------------------+------------+--------------------+---------------------+--------------+--------------+-------------+----+\n",
      "|   id|amount_tsh|date_recorded|      funder|gps_height|   installer|  longitude|    lalitude|            wpt_name|num_private|               basin|subvillage| region|region_code|district_code|      lga|      ward|population|public_meeting|         recorded_by|scheme_management|         scheme_name|permit|construction_year|extraction_type|extraction_type_group|extraction_type_class|management|management_group|       payment|payment_type|water_quality|quality_group|    quantity|quantity_group|              source|         source_type|source_class|     waterpoint_type|waterpoint_type_group|  status_group|month_recorded|year_recorded|date|\n",
      "+-----+----------+-------------+------------+----------+------------+-----------+------------+--------------------+-----------+--------------------+----------+-------+-----------+-------------+---------+----------+----------+--------------+--------------------+-----------------+--------------------+------+-----------------+---------------+---------------------+---------------------+----------+----------------+--------------+------------+-------------+-------------+------------+--------------+--------------------+--------------------+------------+--------------------+---------------------+--------------+--------------+-------------+----+\n",
      "|69572|      6000|   2011-03-14|       Roman|      1390|       Roman|34.93809275| -9.85632177|                none|          0|          Lake Nyasa|  Mnyusi B| Iringa|         11|            5|   Ludewa|  Mundindi|       109|          true|GeoData Consultan...|              VWC|               Roman| false|             1999|        gravity|              gravity|              gravity|       vwc|      user-group|  pay annually|    annually|         soft|         good|      enough|        enough|              spring|              spring| groundwater|  communal standpipe|   communal standpipe|    functional|             3|         2011|   2|\n",
      "| 8776|         0|   2013-03-06|     Grumeti|      1399|     GRUMETI| 34.6987661| -2.14746569|            Zahanati|          0|       Lake Victoria|   Nyamara|   Mara|         20|            2|Serengeti|     Natta|       280|          null|GeoData Consultan...|            Other|                null|  true|             2010|        gravity|              gravity|              gravity|       wug|      user-group|     never pay|   never pay|         soft|         good|insufficient|  insufficient|rainwater harvesting|rainwater harvesting|     surface|  communal standpipe|   communal standpipe|    functional|             3|         2013|   4|\n",
      "|34310|        25|   2013-02-25|Lottery Club|       686|World vision|37.46066446| -3.82132853|         Kwa Mahundi|          0|             Pangani|   Majengo|Manyara|         21|            4|Simanjiro|   Ngorika|       250|          true|GeoData Consultan...|              VWC|Nyumba ya mungu p...|  true|             2009|        gravity|              gravity|              gravity|       vwc|      user-group|pay per bucket|  per bucket|         soft|         good|      enough|        enough|                 dam|                 dam|     surface|communal standpip...|   communal standpipe|    functional|             2|         2013|   2|\n",
      "|67743|         0|   2013-01-28|      Unicef|       263|      UNICEF|38.48616088|-11.15529772|Zahanati Ya Nanyumbu|          0|Ruvuma / Southern...|Mahakamani| Mtwara|         90|           63| Nanyumbu|  Nanyumbu|        58|          true|GeoData Consultan...|              VWC|                null|  true|             1986|    submersible|          submersible|          submersible|       vwc|      user-group|     never pay|   never pay|         soft|         good|         dry|           dry|         machine dbh|            borehole| groundwater|communal standpip...|   communal standpipe|non functional|             1|         2013|   2|\n",
      "|19728|         0|   2011-07-13| Action In A|         0|     Artisan|31.13084671| -1.82535885|             Shuleni|          0|       Lake Victoria|Kyanyamisa| Kagera|         18|            1|  Karagwe|Nyakasimbi|         0|          true|GeoData Consultan...|             null|                null|  true|                0|        gravity|              gravity|              gravity|     other|           other|     never pay|   never pay|         soft|         good|    seasonal|      seasonal|rainwater harvesting|rainwater harvesting|     surface|  communal standpipe|   communal standpipe|    functional|             7|         2011|   4|\n",
      "+-----+----------+-------------+------------+----------+------------+-----------+------------+--------------------+-----------+--------------------+----------+-------+-----------+-------------+---------+----------+----------+--------------+--------------------+-----------------+--------------------+------+-----------------+---------------+---------------------+---------------------+----------+----------------+--------------+------------+-------------+-------------+------------+--------------+--------------------+--------------------+------------+--------------------+---------------------+--------------+--------------+-------------+----+\n",
      "only showing top 5 rows\n",
      "\n"
     ]
    }
   ],
   "source": [
    "merged_data.show(5)"
   ]
  },
  {
   "cell_type": "markdown",
   "metadata": {},
   "source": [
    "# Task9: Change the fields to the following, cast ‘public_meeting’ as String, cast ‘permit’ as String, cast\n",
    "‘gps_height’ as Double. "
   ]
  },
  {
   "cell_type": "code",
   "execution_count": 0,
   "metadata": {
    "colab": {
     "base_uri": "https://localhost:8080/",
     "height": 780
    },
    "colab_type": "code",
    "executionInfo": {
     "elapsed": 1218,
     "status": "ok",
     "timestamp": 1576058205374,
     "user": {
      "displayName": "satya spandana",
      "photoUrl": "https://lh3.googleusercontent.com/a-/AAuE7mCfauLdOARtF3m31Q6IVCiPbXVRyVFWJ5wyIs_6x5Q=s64",
      "userId": "01603550593909639502"
     },
     "user_tz": -330
    },
    "id": "QPC6pIbqJlLw",
    "outputId": "22f38001-36bc-494f-cd6a-35bc6b53ae6f"
   },
   "outputs": [
    {
     "data": {
      "text/plain": [
       "[('id', 'int'),\n",
       " ('amount_tsh', 'int'),\n",
       " ('date_recorded', 'string'),\n",
       " ('funder', 'string'),\n",
       " ('gps_height', 'int'),\n",
       " ('installer', 'string'),\n",
       " ('longitude', 'double'),\n",
       " ('lalitude', 'double'),\n",
       " ('wpt_name', 'string'),\n",
       " ('num_private', 'int'),\n",
       " ('basin', 'string'),\n",
       " ('subvillage', 'string'),\n",
       " ('region', 'string'),\n",
       " ('region_code', 'int'),\n",
       " ('district_code', 'int'),\n",
       " ('lga', 'string'),\n",
       " ('ward', 'string'),\n",
       " ('population', 'int'),\n",
       " ('public_meeting', 'boolean'),\n",
       " ('recorded_by', 'string'),\n",
       " ('scheme_management', 'string'),\n",
       " ('scheme_name', 'string'),\n",
       " ('permit', 'boolean'),\n",
       " ('construction_year', 'int'),\n",
       " ('extraction_type', 'string'),\n",
       " ('extraction_type_group', 'string'),\n",
       " ('extraction_type_class', 'string'),\n",
       " ('management', 'string'),\n",
       " ('management_group', 'string'),\n",
       " ('payment', 'string'),\n",
       " ('payment_type', 'string'),\n",
       " ('water_quality', 'string'),\n",
       " ('quality_group', 'string'),\n",
       " ('quantity', 'string'),\n",
       " ('quantity_group', 'string'),\n",
       " ('source', 'string'),\n",
       " ('source_type', 'string'),\n",
       " ('source_class', 'string'),\n",
       " ('waterpoint_type', 'string'),\n",
       " ('waterpoint_type_group', 'string'),\n",
       " ('status_group', 'string'),\n",
       " ('month_recorded', 'int'),\n",
       " ('year_recorded', 'int'),\n",
       " ('date', 'int')]"
      ]
     },
     "execution_count": 56,
     "metadata": {
      "tags": []
     },
     "output_type": "execute_result"
    }
   ],
   "source": [
    "merged_data.dtypes"
   ]
  },
  {
   "cell_type": "code",
   "execution_count": 0,
   "metadata": {
    "colab": {},
    "colab_type": "code",
    "id": "sCjKeHaiLg5Z"
   },
   "outputs": [],
   "source": [
    "from pyspark.sql.functions import col"
   ]
  },
  {
   "cell_type": "code",
   "execution_count": 0,
   "metadata": {
    "colab": {},
    "colab_type": "code",
    "id": "NOdhO0j0JlG0"
   },
   "outputs": [],
   "source": [
    "merged_data = merged_data.withColumn('public_meeting',col('public_meeting').cast(StringType()))\n",
    "merged_data = merged_data.withColumn('permit',col('permit').cast(StringType()))\n",
    "merged_data = merged_data.withColumn('gps_height',col('gps_height').cast(DoubleType()))"
   ]
  },
  {
   "cell_type": "code",
   "execution_count": 0,
   "metadata": {
    "colab": {},
    "colab_type": "code",
    "id": "mf6OU8ziMkxP"
   },
   "outputs": [],
   "source": [
    "#merged_data.createOrReplaceTempView(\"ConvTable\")\n",
    "#merged_data = spark.sql(\"SELECT STRING(permit),DOUBLE(gps_height) from ConvTable\")"
   ]
  },
  {
   "cell_type": "code",
   "execution_count": 0,
   "metadata": {
    "colab": {
     "base_uri": "https://localhost:8080/",
     "height": 780
    },
    "colab_type": "code",
    "executionInfo": {
     "elapsed": 1036,
     "status": "ok",
     "timestamp": 1576058215116,
     "user": {
      "displayName": "satya spandana",
      "photoUrl": "https://lh3.googleusercontent.com/a-/AAuE7mCfauLdOARtF3m31Q6IVCiPbXVRyVFWJ5wyIs_6x5Q=s64",
      "userId": "01603550593909639502"
     },
     "user_tz": -330
    },
    "id": "yaOo1-G-B48W",
    "outputId": "14a563fa-1fdf-4813-fd4c-72e80c22fa58"
   },
   "outputs": [
    {
     "data": {
      "text/plain": [
       "[('id', 'int'),\n",
       " ('amount_tsh', 'int'),\n",
       " ('date_recorded', 'string'),\n",
       " ('funder', 'string'),\n",
       " ('gps_height', 'double'),\n",
       " ('installer', 'string'),\n",
       " ('longitude', 'double'),\n",
       " ('lalitude', 'double'),\n",
       " ('wpt_name', 'string'),\n",
       " ('num_private', 'int'),\n",
       " ('basin', 'string'),\n",
       " ('subvillage', 'string'),\n",
       " ('region', 'string'),\n",
       " ('region_code', 'int'),\n",
       " ('district_code', 'int'),\n",
       " ('lga', 'string'),\n",
       " ('ward', 'string'),\n",
       " ('population', 'int'),\n",
       " ('public_meeting', 'string'),\n",
       " ('recorded_by', 'string'),\n",
       " ('scheme_management', 'string'),\n",
       " ('scheme_name', 'string'),\n",
       " ('permit', 'string'),\n",
       " ('construction_year', 'int'),\n",
       " ('extraction_type', 'string'),\n",
       " ('extraction_type_group', 'string'),\n",
       " ('extraction_type_class', 'string'),\n",
       " ('management', 'string'),\n",
       " ('management_group', 'string'),\n",
       " ('payment', 'string'),\n",
       " ('payment_type', 'string'),\n",
       " ('water_quality', 'string'),\n",
       " ('quality_group', 'string'),\n",
       " ('quantity', 'string'),\n",
       " ('quantity_group', 'string'),\n",
       " ('source', 'string'),\n",
       " ('source_type', 'string'),\n",
       " ('source_class', 'string'),\n",
       " ('waterpoint_type', 'string'),\n",
       " ('waterpoint_type_group', 'string'),\n",
       " ('status_group', 'string'),\n",
       " ('month_recorded', 'int'),\n",
       " ('year_recorded', 'int'),\n",
       " ('date', 'int')]"
      ]
     },
     "execution_count": 60,
     "metadata": {
      "tags": []
     },
     "output_type": "execute_result"
    }
   ],
   "source": [
    "merged_data.dtypes"
   ]
  },
  {
   "cell_type": "markdown",
   "metadata": {},
   "source": [
    "# Task10: Verify for the Nulls and NaNs in the data frame."
   ]
  },
  {
   "cell_type": "code",
   "execution_count": 0,
   "metadata": {
    "colab": {},
    "colab_type": "code",
    "id": "pKg7dwwFCy3p"
   },
   "outputs": [],
   "source": [
    "#returns if the column contains null values\n",
    "#df.where(col(\"a\").isNull())\n",
    "#this returns rows with nan\n",
    "#from pyspark.sql.functions import isnan\n",
    "#df.where(isnan(col(\"a\")))"
   ]
  },
  {
   "cell_type": "code",
   "execution_count": 0,
   "metadata": {
    "colab": {},
    "colab_type": "code",
    "id": "X-rjFy2nW8mg"
   },
   "outputs": [],
   "source": [
    "from pyspark.sql.functions import *"
   ]
  },
  {
   "cell_type": "code",
   "execution_count": 0,
   "metadata": {
    "colab": {
     "base_uri": "https://localhost:8080/",
     "height": 141
    },
    "colab_type": "code",
    "executionInfo": {
     "elapsed": 11086,
     "status": "ok",
     "timestamp": 1576058249382,
     "user": {
      "displayName": "satya spandana",
      "photoUrl": "https://lh3.googleusercontent.com/a-/AAuE7mCfauLdOARtF3m31Q6IVCiPbXVRyVFWJ5wyIs_6x5Q=s64",
      "userId": "01603550593909639502"
     },
     "user_tz": -330
    },
    "id": "ULcM0fn1NE4c",
    "outputId": "90a8e17b-1d5b-403f-d923-7ef8860c696a"
   },
   "outputs": [
    {
     "name": "stdout",
     "output_type": "stream",
     "text": [
      "+---+----------+-------------+------+----------+---------+---------+--------+--------+-----------+-----+----------+------+-----------+-------------+---+----+----------+--------------+-----------+-----------------+-----------+------+-----------------+---------------+---------------------+---------------------+----------+----------------+-------+------------+-------------+-------------+--------+--------------+------+-----------+------------+---------------+---------------------+------------+--------------+-------------+----+\n",
      "| id|amount_tsh|date_recorded|funder|gps_height|installer|longitude|lalitude|wpt_name|num_private|basin|subvillage|region|region_code|district_code|lga|ward|population|public_meeting|recorded_by|scheme_management|scheme_name|permit|construction_year|extraction_type|extraction_type_group|extraction_type_class|management|management_group|payment|payment_type|water_quality|quality_group|quantity|quantity_group|source|source_type|source_class|waterpoint_type|waterpoint_type_group|status_group|month_recorded|year_recorded|date|\n",
      "+---+----------+-------------+------+----------+---------+---------+--------+--------+-----------+-----+----------+------+-----------+-------------+---+----+----------+--------------+-----------+-----------------+-----------+------+-----------------+---------------+---------------------+---------------------+----------+----------------+-------+------------+-------------+-------------+--------+--------------+------+-----------+------------+---------------+---------------------+------------+--------------+-------------+----+\n",
      "|  0|         0|            0|  3635|         6|     3655|        0|       0|       0|          0|    0|       371|     0|          0|            0|  0|   0|         0|          3333|          0|             3876|      28165|  3056|                0|              0|                    0|                    0|         0|               0|      0|           0|            0|            0|       0|             0|     0|          0|           0|              0|                    0|           0|             0|            0|   0|\n",
      "+---+----------+-------------+------+----------+---------+---------+--------+--------+-----------+-----+----------+------+-----------+-------------+---+----+----------+--------------+-----------+-----------------+-----------+------+-----------------+---------------+---------------------+---------------------+----------+----------------+-------+------------+-------------+-------------+--------+--------------+------+-----------+------------+---------------+---------------------+------------+--------------+-------------+----+\n",
      "\n"
     ]
    }
   ],
   "source": [
    "merged_data.select([count(when(isnan(c) | col(c).isNull(), c).otherwise(None)).alias(c) for c in merged_data.columns]).show()"
   ]
  },
  {
   "cell_type": "markdown",
   "metadata": {},
   "source": [
    "# Task11: Impute the ‘gps_height’ field with mean value for any missing values.\n",
    "(Use from pyspark.ml.feature import Imputer). "
   ]
  },
  {
   "cell_type": "code",
   "execution_count": 0,
   "metadata": {
    "colab": {
     "base_uri": "https://localhost:8080/",
     "height": 121
    },
    "colab_type": "code",
    "executionInfo": {
     "elapsed": 1576,
     "status": "ok",
     "timestamp": 1576058439032,
     "user": {
      "displayName": "satya spandana",
      "photoUrl": "https://lh3.googleusercontent.com/a-/AAuE7mCfauLdOARtF3m31Q6IVCiPbXVRyVFWJ5wyIs_6x5Q=s64",
      "userId": "01603550593909639502"
     },
     "user_tz": -330
    },
    "id": "qOyOQxRTZDSN",
    "outputId": "4b1a77c6-8af1-47c1-ec42-b69b2892c2a6"
   },
   "outputs": [
    {
     "name": "stdout",
     "output_type": "stream",
     "text": [
      "+----------+\n",
      "|gps_height|\n",
      "+----------+\n",
      "|         0|\n",
      "+----------+\n",
      "\n"
     ]
    }
   ],
   "source": [
    "merged_data.select([count(when(isnan('gps_height'),'gps_height').otherwise(None)).alias('gps_height')]).show()"
   ]
  },
  {
   "cell_type": "code",
   "execution_count": 0,
   "metadata": {
    "colab": {
     "base_uri": "https://localhost:8080/",
     "height": 121
    },
    "colab_type": "code",
    "executionInfo": {
     "elapsed": 1625,
     "status": "ok",
     "timestamp": 1576060404699,
     "user": {
      "displayName": "satya spandana",
      "photoUrl": "https://lh3.googleusercontent.com/a-/AAuE7mCfauLdOARtF3m31Q6IVCiPbXVRyVFWJ5wyIs_6x5Q=s64",
      "userId": "01603550593909639502"
     },
     "user_tz": -330
    },
    "id": "S8FD26gidM8o",
    "outputId": "3b587f29-32eb-40cb-a973-02b7b6bf7d24"
   },
   "outputs": [
    {
     "name": "stdout",
     "output_type": "stream",
     "text": [
      "+-----------------+\n",
      "|  avg(gps_height)|\n",
      "+-----------------+\n",
      "|668.3190894703168|\n",
      "+-----------------+\n",
      "\n"
     ]
    }
   ],
   "source": [
    "gps_height_mean = merged_data.agg(avg('gps_height'))\n",
    "gps_height_mean.show(1)"
   ]
  },
  {
   "cell_type": "code",
   "execution_count": 0,
   "metadata": {
    "colab": {
     "base_uri": "https://localhost:8080/",
     "height": 488
    },
    "colab_type": "code",
    "executionInfo": {
     "elapsed": 1757,
     "status": "ok",
     "timestamp": 1576060479280,
     "user": {
      "displayName": "satya spandana",
      "photoUrl": "https://lh3.googleusercontent.com/a-/AAuE7mCfauLdOARtF3m31Q6IVCiPbXVRyVFWJ5wyIs_6x5Q=s64",
      "userId": "01603550593909639502"
     },
     "user_tz": -330
    },
    "id": "x-x_VKopdM6p",
    "outputId": "d257a2d0-25b5-4591-b25d-93d9d10fb75b"
   },
   "outputs": [
    {
     "name": "stdout",
     "output_type": "stream",
     "text": [
      "+-----+----------+-------------+--------------------+----------+--------------------+-----------+------------+--------------------+-----------+--------------------+---------------+-----------+-----------+-------------+----------------+--------------+----------+--------------+--------------------+-----------------+--------------------+------+-----------------+---------------+---------------------+---------------------+----------------+----------------+--------------------+------------+-------------+-------------+------------+--------------+--------------------+--------------------+------------+--------------------+---------------------+--------------------+--------------+-------------+----+\n",
      "|   id|amount_tsh|date_recorded|              funder|gps_height|           installer|  longitude|    lalitude|            wpt_name|num_private|               basin|     subvillage|     region|region_code|district_code|             lga|          ward|population|public_meeting|         recorded_by|scheme_management|         scheme_name|permit|construction_year|extraction_type|extraction_type_group|extraction_type_class|      management|management_group|             payment|payment_type|water_quality|quality_group|    quantity|quantity_group|              source|         source_type|source_class|     waterpoint_type|waterpoint_type_group|        status_group|month_recorded|year_recorded|date|\n",
      "+-----+----------+-------------+--------------------+----------+--------------------+-----------+------------+--------------------+-----------+--------------------+---------------+-----------+-----------+-------------+----------------+--------------+----------+--------------+--------------------+-----------------+--------------------+------+-----------------+---------------+---------------------+---------------------+----------------+----------------+--------------------+------------+-------------+-------------+------------+--------------+--------------------+--------------------+------------+--------------------+---------------------+--------------------+--------------+-------------+----+\n",
      "|69572|      6000|   2011-03-14|               Roman|    1390.0|               Roman|34.93809275| -9.85632177|                none|          0|          Lake Nyasa|       Mnyusi B|     Iringa|         11|            5|          Ludewa|      Mundindi|       109|          true|GeoData Consultan...|              VWC|               Roman| false|             1999|        gravity|              gravity|              gravity|             vwc|      user-group|        pay annually|    annually|         soft|         good|      enough|        enough|              spring|              spring| groundwater|  communal standpipe|   communal standpipe|          functional|             3|         2011|   2|\n",
      "| 8776|         0|   2013-03-06|             Grumeti|    1399.0|             GRUMETI| 34.6987661| -2.14746569|            Zahanati|          0|       Lake Victoria|        Nyamara|       Mara|         20|            2|       Serengeti|         Natta|       280|          null|GeoData Consultan...|            Other|                null|  true|             2010|        gravity|              gravity|              gravity|             wug|      user-group|           never pay|   never pay|         soft|         good|insufficient|  insufficient|rainwater harvesting|rainwater harvesting|     surface|  communal standpipe|   communal standpipe|          functional|             3|         2013|   4|\n",
      "|34310|        25|   2013-02-25|        Lottery Club|     686.0|        World vision|37.46066446| -3.82132853|         Kwa Mahundi|          0|             Pangani|        Majengo|    Manyara|         21|            4|       Simanjiro|       Ngorika|       250|          true|GeoData Consultan...|              VWC|Nyumba ya mungu p...|  true|             2009|        gravity|              gravity|              gravity|             vwc|      user-group|      pay per bucket|  per bucket|         soft|         good|      enough|        enough|                 dam|                 dam|     surface|communal standpip...|   communal standpipe|          functional|             2|         2013|   2|\n",
      "|67743|         0|   2013-01-28|              Unicef|     263.0|              UNICEF|38.48616088|-11.15529772|Zahanati Ya Nanyumbu|          0|Ruvuma / Southern...|     Mahakamani|     Mtwara|         90|           63|        Nanyumbu|      Nanyumbu|        58|          true|GeoData Consultan...|              VWC|                null|  true|             1986|    submersible|          submersible|          submersible|             vwc|      user-group|           never pay|   never pay|         soft|         good|         dry|           dry|         machine dbh|            borehole| groundwater|communal standpip...|   communal standpipe|      non functional|             1|         2013|   2|\n",
      "|19728|         0|   2011-07-13|         Action In A|       0.0|             Artisan|31.13084671| -1.82535885|             Shuleni|          0|       Lake Victoria|     Kyanyamisa|     Kagera|         18|            1|         Karagwe|    Nyakasimbi|         0|          true|GeoData Consultan...|             null|                null|  true|                0|        gravity|              gravity|              gravity|           other|           other|           never pay|   never pay|         soft|         good|    seasonal|      seasonal|rainwater harvesting|rainwater harvesting|     surface|  communal standpipe|   communal standpipe|          functional|             7|         2011|   4|\n",
      "| 9944|        20|   2011-03-13| Mkinga Distric Coun|       0.0|                 DWE| 39.1727956| -4.76558728|              Tajiri|          0|             Pangani|    Moa/Mwereme|      Tanga|          4|            8|          Mkinga|           Moa|         1|          true|GeoData Consultan...|              VWC|           Zingibali|  true|             2009|    submersible|          submersible|          submersible|             vwc|      user-group|      pay per bucket|  per bucket|        salty|        salty|      enough|        enough|               other|               other|     unknown|communal standpip...|   communal standpipe|          functional|             3|         2011|   1|\n",
      "|19816|         0|   2012-10-01|                Dwsp|       0.0|                DWSP|33.36240982| -3.76636472|          Kwa Ngomho|          0|            Internal|  Ishinabulandi|  Shinyanga|         17|            3| Shinyanga Rural|        Samuye|         0|          true|GeoData Consultan...|              VWC|                null|  true|                0|         swn 80|               swn 80|             handpump|             vwc|      user-group|           never pay|   never pay|         soft|         good|      enough|        enough|         machine dbh|            borehole| groundwater|           hand pump|            hand pump|      non functional|            10|         2012|   2|\n",
      "|54551|         0|   2012-10-09|               Rwssp|       0.0|                 DWE|32.62061707| -4.22619802|        Tushirikiane|          0|     Lake Tanganyika|Nyawishi Center|  Shinyanga|         17|            3|          Kahama|        Chambo|         0|          true|GeoData Consultan...|             null|                null|  true|                0|    nira/tanira|          nira/tanira|             handpump|             wug|      user-group|             unknown|     unknown|        milky|        milky|      enough|        enough|        shallow well|        shallow well| groundwater|           hand pump|            hand pump|      non functional|            10|         2012|   3|\n",
      "|53934|         0|   2012-11-03|            Wateraid|       0.0|           Water Aid|32.71110001| -5.14671181|   Kwa Ramadhan Musa|          0|     Lake Tanganyika|     Imalauduki|     Tabora|         14|            6|    Tabora Urban|      Itetemia|         0|          true|GeoData Consultan...|              VWC|                null|  true|                0|  india mark ii|        india mark ii|             handpump|             vwc|      user-group|           never pay|   never pay|        salty|        salty|    seasonal|      seasonal|         machine dbh|            borehole| groundwater|           hand pump|            hand pump|      non functional|            11|         2012|   7|\n",
      "|46144|         0|   2011-08-03|         Isingiro Ho|       0.0|             Artisan|30.62699053| -1.25705061|             Kwapeto|          0|       Lake Victoria|       Mkonomre|     Kagera|         18|            1|         Karagwe|        Kaisho|         0|          true|GeoData Consultan...|             null|                null|  true|                0|    nira/tanira|          nira/tanira|             handpump|             vwc|      user-group|           never pay|   never pay|         soft|         good|      enough|        enough|        shallow well|        shallow well| groundwater|           hand pump|            hand pump|          functional|             8|         2011|   4|\n",
      "|49056|         0|   2011-02-20|             Private|      62.0|             Private|39.20951812| -7.03413939|       Mzee Hokororo|          0|         Wami / Ruvu|         Mizugo|      Pwani|         60|           43|        Mkuranga|       Tambani|       345|          true|GeoData Consultan...| Private operator|                null| false|             2011|    submersible|          submersible|          submersible|private operator|      commercial|           never pay|   never pay|        salty|        salty|      enough|        enough|         machine dbh|            borehole| groundwater|               other|                other|          functional|             2|         2011|   1|\n",
      "|50409|       200|   2013-02-18|              Danida|    1062.0|              DANIDA|35.77025785|-10.57417468|    Kwa Alid Nchimbi|          0|          Lake Nyasa|   Ngondombwito|     Ruvuma|         10|            5|        Namtumbo|        Msindo|       250|          true|GeoData Consultan...|              WUG|                null| false|             1987|         swn 80|               swn 80|             handpump|             wug|      user-group|pay when scheme f...|  on failure|         soft|         good|insufficient|  insufficient|        shallow well|        shallow well| groundwater|           hand pump|            hand pump|          functional|             2|         2013|   2|\n",
      "|36957|         0|   2012-10-14|        World Vision|       0.0|        World vision|33.79810612|  -3.2901938|               Pamba|          0|            Internal|        Nkilifa|  Shinyanga|         17|            2|           Maswa|      Busilili|         0|          true|GeoData Consultan...|              WUG|                null| false|                0|    nira/tanira|          nira/tanira|             handpump|             wug|      user-group|               other|       other|         soft|         good|      enough|        enough|        shallow well|        shallow well| groundwater|           hand pump|            hand pump|          functional|            10|         2012|   1|\n",
      "|50495|         0|   2013-03-15|Lawatefuka Water ...|    1368.0|Lawatefuka water sup|37.09257412|  -3.1817833|Kwa John Izack Mmari|          0|             Pangani|        Omarini|Kilimanjaro|          3|            7|            Siha|Siha Kaskazini|         1|          true|GeoData Consultan...|      Water Board|          BL Bondeni|  true|             2009|        gravity|              gravity|              gravity|     water board|      user-group|         pay monthly|     monthly|         soft|         good|      enough|        enough|              spring|              spring| groundwater|  communal standpipe|   communal standpipe|          functional|             3|         2013|   6|\n",
      "|53752|         0|   2012-10-20|               Biore|       0.0|              WEDECO|34.36407268| -3.62933335|           Mwabasabi|          0|            Internal|      Mwabasabi|  Shinyanga|         17|            6|           Meatu|         Nkoma|         0|          true|GeoData Consultan...|              WUG|                None|  true|                0|    nira/tanira|          nira/tanira|             handpump|             wug|      user-group|           never pay|   never pay|         soft|         good|      enough|        enough|        shallow well|        shallow well| groundwater|           hand pump|            hand pump|          functional|            10|         2012|   7|\n",
      "|61848|         0|   2011-08-04|               Rudep|    1645.0|                 DWE|31.44412134| -8.27496163|Kwa Juvenal Ching...|          0|     Lake Tanganyika|          Tunzi|      Rukwa|         15|            2|Sumbawanga Rural|         Mkowe|       200|          true|GeoData Consultan...|              VWC|                null| false|             1991|         swn 80|               swn 80|             handpump|             vwc|      user-group|           never pay|   never pay|         soft|         good|      enough|        enough|         machine dbh|            borehole| groundwater|           hand pump|            hand pump|          functional|             8|         2011|   5|\n",
      "|48451|       500|   2011-07-04|              Unicef|    1703.0|                 DWE|34.64243884| -9.10618458|     Kwa John Mtenzi|          0|              Rufiji|       Kidudumo|     Iringa|         11|            4|          Njombe|        Mdandu|        35|          true|GeoData Consultan...|              WUA|wanging'ombe wate...|  true|             1978|        gravity|              gravity|              gravity|             wua|      user-group|         pay monthly|     monthly|         soft|         good|         dry|           dry|               river|          river/lake|     surface|  communal standpipe|   communal standpipe|      non functional|             7|         2011|   2|\n",
      "|58155|         0|   2011-09-04|              Unicef|    1656.0|                 DWE|34.56926611| -9.08551497|     Kwa Rose Chaula|          0|              Rufiji|         Yeriko|     Iringa|         11|            4|          Njombe|         Usuka|        50|          true|GeoData Consultan...|              WUA|wanging'ombe wate...|  true|             1978|        gravity|              gravity|              gravity|             wua|      user-group|pay when scheme f...|  on failure|         soft|         good|         dry|           dry|               river|          river/lake|     surface|  communal standpipe|   communal standpipe|      non functional|             9|         2011|   1|\n",
      "|34169|         0|   2011-07-22|              Hesawa|    1162.0|                 DWE|32.92015381| -1.94786801|              Ngomee|          0|       Lake Victoria|         Center|     Mwanza|         19|            1|         Ukerewe|      Ilangala|      1000|          null|GeoData Consultan...|             null|                null|  true|             1999|          other|                other|                other|             vwc|      user-group|           never pay|   never pay|        milky|        milky|insufficient|  insufficient|              spring|              spring| groundwater|               other|                other|functional needs ...|             7|         2011|   6|\n",
      "|18274|       500|   2011-02-22|              Danida|    1763.0|               Danid|34.50896732|  -9.8944125|                none|          0|          Lake Nyasa|       Manyanya|     Iringa|         11|            5|          Ludewa|       Mawengi|         1|          true|GeoData Consultan...|              VWC|              Makanj|  true|             1992|        gravity|              gravity|              gravity|             vwc|      user-group|        pay annually|    annually|         soft|         good|      enough|        enough|              spring|              spring| groundwater|  communal standpipe|   communal standpipe|          functional|             2|         2011|   3|\n",
      "+-----+----------+-------------+--------------------+----------+--------------------+-----------+------------+--------------------+-----------+--------------------+---------------+-----------+-----------+-------------+----------------+--------------+----------+--------------+--------------------+-----------------+--------------------+------+-----------------+---------------+---------------------+---------------------+----------------+----------------+--------------------+------------+-------------+-------------+------------+--------------+--------------------+--------------------+------------+--------------------+---------------------+--------------------+--------------+-------------+----+\n",
      "only showing top 20 rows\n",
      "\n"
     ]
    }
   ],
   "source": [
    "merged_data.na.replace(['gps_height_mean'],\"gps_height\").show()"
   ]
  },
  {
   "cell_type": "code",
   "execution_count": 0,
   "metadata": {
    "colab": {},
    "colab_type": "code",
    "id": "G2omSNJBdM4c"
   },
   "outputs": [],
   "source": [
    "from pyspark.ml.feature import Imputer\n",
    "from numpy import nan"
   ]
  },
  {
   "cell_type": "code",
   "execution_count": 0,
   "metadata": {
    "colab": {
     "base_uri": "https://localhost:8080/",
     "height": 35
    },
    "colab_type": "code",
    "executionInfo": {
     "elapsed": 1093,
     "status": "ok",
     "timestamp": 1576061672129,
     "user": {
      "displayName": "satya spandana",
      "photoUrl": "https://lh3.googleusercontent.com/a-/AAuE7mCfauLdOARtF3m31Q6IVCiPbXVRyVFWJ5wyIs_6x5Q=s64",
      "userId": "01603550593909639502"
     },
     "user_tz": -330
    },
    "id": "Sq79dE33dM0C",
    "outputId": "babed355-4402-4047-c3c1-9d7a1055a2e8"
   },
   "outputs": [
    {
     "data": {
      "text/plain": [
       "Imputer_2cb8286c66b1"
      ]
     },
     "execution_count": 83,
     "metadata": {
      "tags": []
     },
     "output_type": "execute_result"
    }
   ],
   "source": [
    "Imputer(strategy='mean', missingValue=nan, inputCols=['gps_height'], outputCols=['gps_height'])"
   ]
  },
  {
   "cell_type": "markdown",
   "metadata": {},
   "source": [
    "# Task12: Drop ‘id’,’record_by’ and ‘date_recorded’ from the dataframe"
   ]
  },
  {
   "cell_type": "code",
   "execution_count": 0,
   "metadata": {
    "colab": {
     "base_uri": "https://localhost:8080/",
     "height": 780
    },
    "colab_type": "code",
    "executionInfo": {
     "elapsed": 1185,
     "status": "ok",
     "timestamp": 1576061984926,
     "user": {
      "displayName": "satya spandana",
      "photoUrl": "https://lh3.googleusercontent.com/a-/AAuE7mCfauLdOARtF3m31Q6IVCiPbXVRyVFWJ5wyIs_6x5Q=s64",
      "userId": "01603550593909639502"
     },
     "user_tz": -330
    },
    "id": "-6NWg7bAnT-o",
    "outputId": "99c8b5a0-1bc5-401f-a2db-b025154286f2"
   },
   "outputs": [
    {
     "data": {
      "text/plain": [
       "['id',\n",
       " 'amount_tsh',\n",
       " 'date_recorded',\n",
       " 'funder',\n",
       " 'gps_height',\n",
       " 'installer',\n",
       " 'longitude',\n",
       " 'lalitude',\n",
       " 'wpt_name',\n",
       " 'num_private',\n",
       " 'basin',\n",
       " 'subvillage',\n",
       " 'region',\n",
       " 'region_code',\n",
       " 'district_code',\n",
       " 'lga',\n",
       " 'ward',\n",
       " 'population',\n",
       " 'public_meeting',\n",
       " 'recorded_by',\n",
       " 'scheme_management',\n",
       " 'scheme_name',\n",
       " 'permit',\n",
       " 'construction_year',\n",
       " 'extraction_type',\n",
       " 'extraction_type_group',\n",
       " 'extraction_type_class',\n",
       " 'management',\n",
       " 'management_group',\n",
       " 'payment',\n",
       " 'payment_type',\n",
       " 'water_quality',\n",
       " 'quality_group',\n",
       " 'quantity',\n",
       " 'quantity_group',\n",
       " 'source',\n",
       " 'source_type',\n",
       " 'source_class',\n",
       " 'waterpoint_type',\n",
       " 'waterpoint_type_group',\n",
       " 'status_group',\n",
       " 'month_recorded',\n",
       " 'year_recorded',\n",
       " 'date']"
      ]
     },
     "execution_count": 91,
     "metadata": {
      "tags": []
     },
     "output_type": "execute_result"
    }
   ],
   "source": [
    "merged_data.columns"
   ]
  },
  {
   "cell_type": "code",
   "execution_count": 0,
   "metadata": {
    "colab": {},
    "colab_type": "code",
    "id": "K5p4W2kfmK-G"
   },
   "outputs": [],
   "source": [
    "merged_data = merged_data.drop('id','recorded_by','date_recorded')"
   ]
  },
  {
   "cell_type": "code",
   "execution_count": 0,
   "metadata": {
    "colab": {
     "base_uri": "https://localhost:8080/",
     "height": 728
    },
    "colab_type": "code",
    "executionInfo": {
     "elapsed": 1132,
     "status": "ok",
     "timestamp": 1576062141806,
     "user": {
      "displayName": "satya spandana",
      "photoUrl": "https://lh3.googleusercontent.com/a-/AAuE7mCfauLdOARtF3m31Q6IVCiPbXVRyVFWJ5wyIs_6x5Q=s64",
      "userId": "01603550593909639502"
     },
     "user_tz": -330
    },
    "id": "LtlzS0USmK8G",
    "outputId": "8891867e-374a-4037-8a04-b7cbb8732e4e"
   },
   "outputs": [
    {
     "data": {
      "text/plain": [
       "['amount_tsh',\n",
       " 'funder',\n",
       " 'gps_height',\n",
       " 'installer',\n",
       " 'longitude',\n",
       " 'lalitude',\n",
       " 'wpt_name',\n",
       " 'num_private',\n",
       " 'basin',\n",
       " 'subvillage',\n",
       " 'region',\n",
       " 'region_code',\n",
       " 'district_code',\n",
       " 'lga',\n",
       " 'ward',\n",
       " 'population',\n",
       " 'public_meeting',\n",
       " 'scheme_management',\n",
       " 'scheme_name',\n",
       " 'permit',\n",
       " 'construction_year',\n",
       " 'extraction_type',\n",
       " 'extraction_type_group',\n",
       " 'extraction_type_class',\n",
       " 'management',\n",
       " 'management_group',\n",
       " 'payment',\n",
       " 'payment_type',\n",
       " 'water_quality',\n",
       " 'quality_group',\n",
       " 'quantity',\n",
       " 'quantity_group',\n",
       " 'source',\n",
       " 'source_type',\n",
       " 'source_class',\n",
       " 'waterpoint_type',\n",
       " 'waterpoint_type_group',\n",
       " 'status_group',\n",
       " 'month_recorded',\n",
       " 'year_recorded',\n",
       " 'date']"
      ]
     },
     "execution_count": 96,
     "metadata": {
      "tags": []
     },
     "output_type": "execute_result"
    }
   ],
   "source": [
    "merged_data.columns"
   ]
  },
  {
   "cell_type": "markdown",
   "metadata": {},
   "source": [
    "# Task13: Replace null values with the value ‘UNKNOWN’ for these fields\n",
    "‘funder’,’installer’,’subvillage’,’public_meeting’,’scheme_management’,’scheme_name’,’permit’"
   ]
  },
  {
   "cell_type": "code",
   "execution_count": 0,
   "metadata": {
    "colab": {
     "base_uri": "https://localhost:8080/",
     "height": 228
    },
    "colab_type": "code",
    "executionInfo": {
     "elapsed": 1264,
     "status": "ok",
     "timestamp": 1576062359722,
     "user": {
      "displayName": "satya spandana",
      "photoUrl": "https://lh3.googleusercontent.com/a-/AAuE7mCfauLdOARtF3m31Q6IVCiPbXVRyVFWJ5wyIs_6x5Q=s64",
      "userId": "01603550593909639502"
     },
     "user_tz": -330
    },
    "id": "HzRdF94LoZU1",
    "outputId": "0aa5331b-d7d2-425c-e131-456e406a8ea7"
   },
   "outputs": [
    {
     "name": "stdout",
     "output_type": "stream",
     "text": [
      "+----------+------------+----------+------------+-----------+------------+--------------------+-----------+--------------------+----------+-------+-----------+-------------+---------+----------+----------+--------------+-----------------+--------------------+------+-----------------+---------------+---------------------+---------------------+----------+----------------+--------------+------------+-------------+-------------+------------+--------------+--------------------+--------------------+------------+--------------------+---------------------+--------------+--------------+-------------+----+\n",
      "|amount_tsh|      funder|gps_height|   installer|  longitude|    lalitude|            wpt_name|num_private|               basin|subvillage| region|region_code|district_code|      lga|      ward|population|public_meeting|scheme_management|         scheme_name|permit|construction_year|extraction_type|extraction_type_group|extraction_type_class|management|management_group|       payment|payment_type|water_quality|quality_group|    quantity|quantity_group|              source|         source_type|source_class|     waterpoint_type|waterpoint_type_group|  status_group|month_recorded|year_recorded|date|\n",
      "+----------+------------+----------+------------+-----------+------------+--------------------+-----------+--------------------+----------+-------+-----------+-------------+---------+----------+----------+--------------+-----------------+--------------------+------+-----------------+---------------+---------------------+---------------------+----------+----------------+--------------+------------+-------------+-------------+------------+--------------+--------------------+--------------------+------------+--------------------+---------------------+--------------+--------------+-------------+----+\n",
      "|      6000|       Roman|    1390.0|       Roman|34.93809275| -9.85632177|                none|          0|          Lake Nyasa|  Mnyusi B| Iringa|         11|            5|   Ludewa|  Mundindi|       109|          true|              VWC|               Roman| false|             1999|        gravity|              gravity|              gravity|       vwc|      user-group|  pay annually|    annually|         soft|         good|      enough|        enough|              spring|              spring| groundwater|  communal standpipe|   communal standpipe|    functional|             3|         2011|   2|\n",
      "|         0|     Grumeti|    1399.0|     GRUMETI| 34.6987661| -2.14746569|            Zahanati|          0|       Lake Victoria|   Nyamara|   Mara|         20|            2|Serengeti|     Natta|       280|          null|            Other|                null|  true|             2010|        gravity|              gravity|              gravity|       wug|      user-group|     never pay|   never pay|         soft|         good|insufficient|  insufficient|rainwater harvesting|rainwater harvesting|     surface|  communal standpipe|   communal standpipe|    functional|             3|         2013|   4|\n",
      "|        25|Lottery Club|     686.0|World vision|37.46066446| -3.82132853|         Kwa Mahundi|          0|             Pangani|   Majengo|Manyara|         21|            4|Simanjiro|   Ngorika|       250|          true|              VWC|Nyumba ya mungu p...|  true|             2009|        gravity|              gravity|              gravity|       vwc|      user-group|pay per bucket|  per bucket|         soft|         good|      enough|        enough|                 dam|                 dam|     surface|communal standpip...|   communal standpipe|    functional|             2|         2013|   2|\n",
      "|         0|      Unicef|     263.0|      UNICEF|38.48616088|-11.15529772|Zahanati Ya Nanyumbu|          0|Ruvuma / Southern...|Mahakamani| Mtwara|         90|           63| Nanyumbu|  Nanyumbu|        58|          true|              VWC|                null|  true|             1986|    submersible|          submersible|          submersible|       vwc|      user-group|     never pay|   never pay|         soft|         good|         dry|           dry|         machine dbh|            borehole| groundwater|communal standpip...|   communal standpipe|non functional|             1|         2013|   2|\n",
      "|         0| Action In A|       0.0|     Artisan|31.13084671| -1.82535885|             Shuleni|          0|       Lake Victoria|Kyanyamisa| Kagera|         18|            1|  Karagwe|Nyakasimbi|         0|          true|             null|                null|  true|                0|        gravity|              gravity|              gravity|     other|           other|     never pay|   never pay|         soft|         good|    seasonal|      seasonal|rainwater harvesting|rainwater harvesting|     surface|  communal standpipe|   communal standpipe|    functional|             7|         2011|   4|\n",
      "+----------+------------+----------+------------+-----------+------------+--------------------+-----------+--------------------+----------+-------+-----------+-------------+---------+----------+----------+--------------+-----------------+--------------------+------+-----------------+---------------+---------------------+---------------------+----------+----------------+--------------+------------+-------------+-------------+------------+--------------+--------------------+--------------------+------------+--------------------+---------------------+--------------+--------------+-------------+----+\n",
      "only showing top 5 rows\n",
      "\n"
     ]
    }
   ],
   "source": [
    "merged_data.show(5)"
   ]
  },
  {
   "cell_type": "code",
   "execution_count": 0,
   "metadata": {
    "colab": {},
    "colab_type": "code",
    "id": "SsusFCSemK49"
   },
   "outputs": [],
   "source": [
    "Imputer(strategy='mean', missingValue=0, inputCols=['gps_height'], outputCols=['gps_height'])\n",
    "trainDF.select('User_ID').rdd.map(lambda x:(x,1)).take(5)"
   ]
  },
  {
   "cell_type": "code",
   "execution_count": 0,
   "metadata": {
    "colab": {
     "base_uri": "https://localhost:8080/",
     "height": 488
    },
    "colab_type": "code",
    "executionInfo": {
     "elapsed": 1539,
     "status": "ok",
     "timestamp": 1576064052053,
     "user": {
      "displayName": "satya spandana",
      "photoUrl": "https://lh3.googleusercontent.com/a-/AAuE7mCfauLdOARtF3m31Q6IVCiPbXVRyVFWJ5wyIs_6x5Q=s64",
      "userId": "01603550593909639502"
     },
     "user_tz": -330
    },
    "id": "-p2nTOFamK03",
    "outputId": "147bd665-1518-4b87-fad9-9967c25f6825"
   },
   "outputs": [
    {
     "name": "stdout",
     "output_type": "stream",
     "text": [
      "+----------+--------------------+----------+--------------------+-----------+------------+--------------------+-----------+--------------------+---------------+-----------+-----------+-------------+----------------+--------------+----------+--------------+-----------------+--------------------+------+-----------------+---------------+---------------------+---------------------+----------------+----------------+--------------------+------------+-------------+-------------+------------+--------------+--------------------+--------------------+------------+--------------------+---------------------+--------------------+--------------+-------------+----+\n",
      "|amount_tsh|              funder|gps_height|           installer|  longitude|    lalitude|            wpt_name|num_private|               basin|     subvillage|     region|region_code|district_code|             lga|          ward|population|public_meeting|scheme_management|         scheme_name|permit|construction_year|extraction_type|extraction_type_group|extraction_type_class|      management|management_group|             payment|payment_type|water_quality|quality_group|    quantity|quantity_group|              source|         source_type|source_class|     waterpoint_type|waterpoint_type_group|        status_group|month_recorded|year_recorded|date|\n",
      "+----------+--------------------+----------+--------------------+-----------+------------+--------------------+-----------+--------------------+---------------+-----------+-----------+-------------+----------------+--------------+----------+--------------+-----------------+--------------------+------+-----------------+---------------+---------------------+---------------------+----------------+----------------+--------------------+------------+-------------+-------------+------------+--------------+--------------------+--------------------+------------+--------------------+---------------------+--------------------+--------------+-------------+----+\n",
      "|      6000|               Roman|    1390.0|               Roman|34.93809275| -9.85632177|                none|          0|          Lake Nyasa|       Mnyusi B|     Iringa|         11|            5|          Ludewa|      Mundindi|       109|          true|              VWC|               Roman| false|             1999|        gravity|              gravity|              gravity|             vwc|      user-group|        pay annually|    annually|         soft|         good|      enough|        enough|              spring|              spring| groundwater|  communal standpipe|   communal standpipe|          functional|             3|         2011|   2|\n",
      "|         0|             Grumeti|    1399.0|             GRUMETI| 34.6987661| -2.14746569|            Zahanati|          0|       Lake Victoria|        Nyamara|       Mara|         20|            2|       Serengeti|         Natta|       280|       UNKNOWN|            Other|             UNKNOWN|  true|             2010|        gravity|              gravity|              gravity|             wug|      user-group|           never pay|   never pay|         soft|         good|insufficient|  insufficient|rainwater harvesting|rainwater harvesting|     surface|  communal standpipe|   communal standpipe|          functional|             3|         2013|   4|\n",
      "|        25|        Lottery Club|     686.0|        World vision|37.46066446| -3.82132853|         Kwa Mahundi|          0|             Pangani|        Majengo|    Manyara|         21|            4|       Simanjiro|       Ngorika|       250|          true|              VWC|Nyumba ya mungu p...|  true|             2009|        gravity|              gravity|              gravity|             vwc|      user-group|      pay per bucket|  per bucket|         soft|         good|      enough|        enough|                 dam|                 dam|     surface|communal standpip...|   communal standpipe|          functional|             2|         2013|   2|\n",
      "|         0|              Unicef|     263.0|              UNICEF|38.48616088|-11.15529772|Zahanati Ya Nanyumbu|          0|Ruvuma / Southern...|     Mahakamani|     Mtwara|         90|           63|        Nanyumbu|      Nanyumbu|        58|          true|              VWC|             UNKNOWN|  true|             1986|    submersible|          submersible|          submersible|             vwc|      user-group|           never pay|   never pay|         soft|         good|         dry|           dry|         machine dbh|            borehole| groundwater|communal standpip...|   communal standpipe|      non functional|             1|         2013|   2|\n",
      "|         0|         Action In A|       0.0|             Artisan|31.13084671| -1.82535885|             Shuleni|          0|       Lake Victoria|     Kyanyamisa|     Kagera|         18|            1|         Karagwe|    Nyakasimbi|         0|          true|          UNKNOWN|             UNKNOWN|  true|                0|        gravity|              gravity|              gravity|           other|           other|           never pay|   never pay|         soft|         good|    seasonal|      seasonal|rainwater harvesting|rainwater harvesting|     surface|  communal standpipe|   communal standpipe|          functional|             7|         2011|   4|\n",
      "|        20| Mkinga Distric Coun|       0.0|                 DWE| 39.1727956| -4.76558728|              Tajiri|          0|             Pangani|    Moa/Mwereme|      Tanga|          4|            8|          Mkinga|           Moa|         1|          true|              VWC|           Zingibali|  true|             2009|    submersible|          submersible|          submersible|             vwc|      user-group|      pay per bucket|  per bucket|        salty|        salty|      enough|        enough|               other|               other|     unknown|communal standpip...|   communal standpipe|          functional|             3|         2011|   1|\n",
      "|         0|                Dwsp|       0.0|                DWSP|33.36240982| -3.76636472|          Kwa Ngomho|          0|            Internal|  Ishinabulandi|  Shinyanga|         17|            3| Shinyanga Rural|        Samuye|         0|          true|              VWC|             UNKNOWN|  true|                0|         swn 80|               swn 80|             handpump|             vwc|      user-group|           never pay|   never pay|         soft|         good|      enough|        enough|         machine dbh|            borehole| groundwater|           hand pump|            hand pump|      non functional|            10|         2012|   2|\n",
      "|         0|               Rwssp|       0.0|                 DWE|32.62061707| -4.22619802|        Tushirikiane|          0|     Lake Tanganyika|Nyawishi Center|  Shinyanga|         17|            3|          Kahama|        Chambo|         0|          true|          UNKNOWN|             UNKNOWN|  true|                0|    nira/tanira|          nira/tanira|             handpump|             wug|      user-group|             unknown|     unknown|        milky|        milky|      enough|        enough|        shallow well|        shallow well| groundwater|           hand pump|            hand pump|      non functional|            10|         2012|   3|\n",
      "|         0|            Wateraid|       0.0|           Water Aid|32.71110001| -5.14671181|   Kwa Ramadhan Musa|          0|     Lake Tanganyika|     Imalauduki|     Tabora|         14|            6|    Tabora Urban|      Itetemia|         0|          true|              VWC|             UNKNOWN|  true|                0|  india mark ii|        india mark ii|             handpump|             vwc|      user-group|           never pay|   never pay|        salty|        salty|    seasonal|      seasonal|         machine dbh|            borehole| groundwater|           hand pump|            hand pump|      non functional|            11|         2012|   7|\n",
      "|         0|         Isingiro Ho|       0.0|             Artisan|30.62699053| -1.25705061|             Kwapeto|          0|       Lake Victoria|       Mkonomre|     Kagera|         18|            1|         Karagwe|        Kaisho|         0|          true|          UNKNOWN|             UNKNOWN|  true|                0|    nira/tanira|          nira/tanira|             handpump|             vwc|      user-group|           never pay|   never pay|         soft|         good|      enough|        enough|        shallow well|        shallow well| groundwater|           hand pump|            hand pump|          functional|             8|         2011|   4|\n",
      "|         0|             Private|      62.0|             Private|39.20951812| -7.03413939|       Mzee Hokororo|          0|         Wami / Ruvu|         Mizugo|      Pwani|         60|           43|        Mkuranga|       Tambani|       345|          true| Private operator|             UNKNOWN| false|             2011|    submersible|          submersible|          submersible|private operator|      commercial|           never pay|   never pay|        salty|        salty|      enough|        enough|         machine dbh|            borehole| groundwater|               other|                other|          functional|             2|         2011|   1|\n",
      "|       200|              Danida|    1062.0|              DANIDA|35.77025785|-10.57417468|    Kwa Alid Nchimbi|          0|          Lake Nyasa|   Ngondombwito|     Ruvuma|         10|            5|        Namtumbo|        Msindo|       250|          true|              WUG|             UNKNOWN| false|             1987|         swn 80|               swn 80|             handpump|             wug|      user-group|pay when scheme f...|  on failure|         soft|         good|insufficient|  insufficient|        shallow well|        shallow well| groundwater|           hand pump|            hand pump|          functional|             2|         2013|   2|\n",
      "|         0|        World Vision|       0.0|        World vision|33.79810612|  -3.2901938|               Pamba|          0|            Internal|        Nkilifa|  Shinyanga|         17|            2|           Maswa|      Busilili|         0|          true|              WUG|             UNKNOWN| false|                0|    nira/tanira|          nira/tanira|             handpump|             wug|      user-group|               other|       other|         soft|         good|      enough|        enough|        shallow well|        shallow well| groundwater|           hand pump|            hand pump|          functional|            10|         2012|   1|\n",
      "|         0|Lawatefuka Water ...|    1368.0|Lawatefuka water sup|37.09257412|  -3.1817833|Kwa John Izack Mmari|          0|             Pangani|        Omarini|Kilimanjaro|          3|            7|            Siha|Siha Kaskazini|         1|          true|      Water Board|          BL Bondeni|  true|             2009|        gravity|              gravity|              gravity|     water board|      user-group|         pay monthly|     monthly|         soft|         good|      enough|        enough|              spring|              spring| groundwater|  communal standpipe|   communal standpipe|          functional|             3|         2013|   6|\n",
      "|         0|               Biore|       0.0|              WEDECO|34.36407268| -3.62933335|           Mwabasabi|          0|            Internal|      Mwabasabi|  Shinyanga|         17|            6|           Meatu|         Nkoma|         0|          true|              WUG|                None|  true|                0|    nira/tanira|          nira/tanira|             handpump|             wug|      user-group|           never pay|   never pay|         soft|         good|      enough|        enough|        shallow well|        shallow well| groundwater|           hand pump|            hand pump|          functional|            10|         2012|   7|\n",
      "|         0|               Rudep|    1645.0|                 DWE|31.44412134| -8.27496163|Kwa Juvenal Ching...|          0|     Lake Tanganyika|          Tunzi|      Rukwa|         15|            2|Sumbawanga Rural|         Mkowe|       200|          true|              VWC|             UNKNOWN| false|             1991|         swn 80|               swn 80|             handpump|             vwc|      user-group|           never pay|   never pay|         soft|         good|      enough|        enough|         machine dbh|            borehole| groundwater|           hand pump|            hand pump|          functional|             8|         2011|   5|\n",
      "|       500|              Unicef|    1703.0|                 DWE|34.64243884| -9.10618458|     Kwa John Mtenzi|          0|              Rufiji|       Kidudumo|     Iringa|         11|            4|          Njombe|        Mdandu|        35|          true|              WUA|wanging'ombe wate...|  true|             1978|        gravity|              gravity|              gravity|             wua|      user-group|         pay monthly|     monthly|         soft|         good|         dry|           dry|               river|          river/lake|     surface|  communal standpipe|   communal standpipe|      non functional|             7|         2011|   2|\n",
      "|         0|              Unicef|    1656.0|                 DWE|34.56926611| -9.08551497|     Kwa Rose Chaula|          0|              Rufiji|         Yeriko|     Iringa|         11|            4|          Njombe|         Usuka|        50|          true|              WUA|wanging'ombe wate...|  true|             1978|        gravity|              gravity|              gravity|             wua|      user-group|pay when scheme f...|  on failure|         soft|         good|         dry|           dry|               river|          river/lake|     surface|  communal standpipe|   communal standpipe|      non functional|             9|         2011|   1|\n",
      "|         0|              Hesawa|    1162.0|                 DWE|32.92015381| -1.94786801|              Ngomee|          0|       Lake Victoria|         Center|     Mwanza|         19|            1|         Ukerewe|      Ilangala|      1000|       UNKNOWN|          UNKNOWN|             UNKNOWN|  true|             1999|          other|                other|                other|             vwc|      user-group|           never pay|   never pay|        milky|        milky|insufficient|  insufficient|              spring|              spring| groundwater|               other|                other|functional needs ...|             7|         2011|   6|\n",
      "|       500|              Danida|    1763.0|               Danid|34.50896732|  -9.8944125|                none|          0|          Lake Nyasa|       Manyanya|     Iringa|         11|            5|          Ludewa|       Mawengi|         1|          true|              VWC|              Makanj|  true|             1992|        gravity|              gravity|              gravity|             vwc|      user-group|        pay annually|    annually|         soft|         good|      enough|        enough|              spring|              spring| groundwater|  communal standpipe|   communal standpipe|          functional|             2|         2011|   3|\n",
      "+----------+--------------------+----------+--------------------+-----------+------------+--------------------+-----------+--------------------+---------------+-----------+-----------+-------------+----------------+--------------+----------+--------------+-----------------+--------------------+------+-----------------+---------------+---------------------+---------------------+----------------+----------------+--------------------+------------+-------------+-------------+------------+--------------+--------------------+--------------------+------------+--------------------+---------------------+--------------------+--------------+-------------+----+\n",
      "only showing top 20 rows\n",
      "\n"
     ]
    }
   ],
   "source": [
    "fill_nulls = {\n",
    "\"funder\": \"UNKNOWN\",\n",
    "\"installer\" : \"UNKNOWN\",\n",
    "\"subvillage\" : \"UNKNOWN\",\n",
    "\"public_meeting\" : \"UNKNOWN\",\n",
    "\"scheme_management\" : \"UNKNOWN\",\n",
    "\"scheme_name\" : \"UNKNOWN\",\n",
    "\"permit\" : \"UNKNOWN\"\n",
    "}\n",
    "merged_data.na.fill(fill_nulls).show()"
   ]
  }
 ],
 "metadata": {
  "colab": {
   "collapsed_sections": [],
   "name": "spark_cute.ipynb",
   "provenance": []
  },
  "kernelspec": {
   "display_name": "Python 3",
   "language": "python",
   "name": "python3"
  },
  "language_info": {
   "codemirror_mode": {
    "name": "ipython",
    "version": 3
   },
   "file_extension": ".py",
   "mimetype": "text/x-python",
   "name": "python",
   "nbconvert_exporter": "python",
   "pygments_lexer": "ipython3",
   "version": "3.7.4"
  }
 },
 "nbformat": 4,
 "nbformat_minor": 1
}
