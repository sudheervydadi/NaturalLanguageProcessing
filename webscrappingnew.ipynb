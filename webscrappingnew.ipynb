{
 "cells": [
  {
   "cell_type": "code",
   "execution_count": 31,
   "metadata": {
    "colab": {
     "base_uri": "https://localhost:8080/",
     "height": 87
    },
    "colab_type": "code",
    "executionInfo": {
     "elapsed": 8605,
     "status": "ok",
     "timestamp": 1576123173740,
     "user": {
      "displayName": "Kakumanu gnanender reddy",
      "photoUrl": "https://lh3.googleusercontent.com/a-/AAuE7mBpRSGhPP-GCRmqA7KB9AtlNXJ8UJguY6--1zVkew=s64",
      "userId": "13910744378235438843"
     },
     "user_tz": -330
    },
    "id": "QXvt1SqdChfe",
    "outputId": "552052c9-5e0b-400b-cd2b-fcb13907c738"
   },
   "outputs": [
    {
     "name": "stdout",
     "output_type": "stream",
     "text": [
      "Requirement already satisfied: wordcloud in f:\\installitations\\lib\\site-packages (1.6.0)\n",
      "Requirement already satisfied: matplotlib in f:\\installitations\\lib\\site-packages (from wordcloud) (3.1.1)\n",
      "Requirement already satisfied: pillow in f:\\installitations\\lib\\site-packages (from wordcloud) (6.2.1)\n",
      "Requirement already satisfied: numpy>=1.6.1 in f:\\installitations\\lib\\site-packages (from wordcloud) (1.17.3)\n",
      "Requirement already satisfied: cycler>=0.10 in f:\\installitations\\lib\\site-packages (from matplotlib->wordcloud) (0.10.0)\n",
      "Requirement already satisfied: kiwisolver>=1.0.1 in f:\\installitations\\lib\\site-packages (from matplotlib->wordcloud) (1.1.0)\n",
      "Requirement already satisfied: pyparsing!=2.0.4,!=2.1.2,!=2.1.6,>=2.0.1 in f:\\installitations\\lib\\site-packages (from matplotlib->wordcloud) (2.4.2)\n",
      "Requirement already satisfied: python-dateutil>=2.1 in f:\\installitations\\lib\\site-packages (from matplotlib->wordcloud) (2.8.1)\n",
      "Requirement already satisfied: six in f:\\installitations\\lib\\site-packages (from cycler>=0.10->matplotlib->wordcloud) (1.12.0)\n",
      "Requirement already satisfied: setuptools in f:\\installitations\\lib\\site-packages (from kiwisolver>=1.0.1->matplotlib->wordcloud) (41.6.0.post20191030)\n"
     ]
    }
   ],
   "source": [
    "import numpy as np\n",
    "import pandas as pd\n",
    "\n",
    "#!pip install urllib\n",
    "import urllib.request as url \n",
    "\n",
    "#!pip install bs4\n",
    "from bs4 import BeautifulSoup as bs\n",
    "\n",
    "!pip install wordcloud\n",
    "from wordcloud import WordCloud\n",
    "\n",
    "import re\n",
    "import requests\n",
    "import matplotlib.pyplot as plt\n",
    "%matplotlib inline\n",
    "\n",
    "import random\n",
    "random.seed(123)\n",
    "\n",
    "#ignore warnings\n",
    "import warnings\n",
    "warnings.filterwarnings('ignore')"
   ]
  },
  {
   "cell_type": "code",
   "execution_count": 33,
   "metadata": {
    "colab": {
     "base_uri": "https://localhost:8080/",
     "height": 354
    },
    "colab_type": "code",
    "executionInfo": {
     "elapsed": 20890,
     "status": "ok",
     "timestamp": 1576123277406,
     "user": {
      "displayName": "Kakumanu gnanender reddy",
      "photoUrl": "https://lh3.googleusercontent.com/a-/AAuE7mBpRSGhPP-GCRmqA7KB9AtlNXJ8UJguY6--1zVkew=s64",
      "userId": "13910744378235438843"
     },
     "user_tz": -330
    },
    "id": "VuP3oDqJDTjj",
    "outputId": "f33afcf9-3bf9-452d-acd3-5e2c89178944"
   },
   "outputs": [
    {
     "name": "stdout",
     "output_type": "stream",
     "text": [
      "https://news.ycombinator.com/newest?next=21769854&n=31\n",
      "https://news.ycombinator.com/newest?next=21769605&n=61\n",
      "https://news.ycombinator.com/newest?next=21769398&n=91\n",
      "https://news.ycombinator.com/newest?next=21769079&n=121\n",
      "https://news.ycombinator.com/newest?next=21768764&n=151\n",
      "https://news.ycombinator.com/newest?next=21768436&n=181\n",
      "https://news.ycombinator.com/newest?next=21768074&n=211\n",
      "https://news.ycombinator.com/newest?next=21767513&n=241\n",
      "https://news.ycombinator.com/newest?next=21767232&n=271\n",
      "https://news.ycombinator.com/newest?next=21766983&n=301\n",
      "https://news.ycombinator.com/newest?next=21766800&n=331\n",
      "https://news.ycombinator.com/newest?next=21766485&n=361\n",
      "https://news.ycombinator.com/newest?next=21766083&n=391\n",
      "https://news.ycombinator.com/newest?next=21765828&n=421\n",
      "https://news.ycombinator.com/newest?next=21765656&n=451\n",
      "https://news.ycombinator.com/newest?next=21765428&n=481\n",
      "https://news.ycombinator.com/newest?next=21765163&n=511\n",
      "https://news.ycombinator.com/newest?next=21764798&n=541\n"
     ]
    }
   ],
   "source": [
    "list1 = []\n",
    "link_newest = \"https://news.ycombinator.com/\"\n",
    "for i in range(1,20):\n",
    "    if i == 1:\n",
    "        link1=\"https://news.ycombinator.com/newest\"\n",
    "        list1.append(link1)\n",
    "    else:\n",
    "        link1 = link_newest + add\n",
    "        list1.append(link1)\n",
    "        print(link1)\n",
    "    soup= bs(url.urlopen(link1))\n",
    "    for link in soup.find_all('a'):\n",
    "        if len(link.text.strip()) > 1 and re.match('More',link.text):\n",
    "            add = link['href']\n"
   ]
  },
  {
   "cell_type": "code",
   "execution_count": 38,
   "metadata": {
    "colab": {},
    "colab_type": "code",
    "id": "ZNf98mKhDuvb"
   },
   "outputs": [],
   "source": [
    "d = {'Title':[],'age':[],'posted_by_user':[],'URL':[],'domain':[],'num_upvotes':[]}\n",
    "for i in list1:\n",
    "    soup =  bs(url.urlopen(i))\n",
    "    i = 0\n",
    "    for link in soup.find_all('a'):\n",
    "        if len(link.text.strip()) > 1 and bool(re.match('http',link['href']))and not bool(re.search('past|web|guidelines|faq|support|api|security|lists|bookmarklet|legal|apply to yc|contact|search|log in|subscribe',link.text.lower()))  and not bool(\n",
    "          re.search('indianblogginers|indianbloggers|twitter|facebook|images|youtube|docs.google.com|myaccount',link['href'])) :\n",
    "          d['Title'].append(link.text)\n",
    "          d['URL'].append(link['href'])\n",
    "          spans1=soup.find_all('span',{'class' : 'sitestr'})\n",
    "          lines1 = [span.get_text() for span in spans1]\n",
    "          spans2=soup.find_all('span',{'class' : 'score'})\n",
    "          lines2 = [span.get_text() for span in spans2]\n",
    "          spans3=soup.find_all('span',{'class' : 'age'})\n",
    "          lines3 = [span.get_text() for span in spans3]\n",
    "          spans4=soup.find_all('a',{'class' : 'hnuser'})\n",
    "          lines4 = [span.get_text() for span in spans4]\n",
    "          d['domain'].append(lines1[i])\n",
    "          d['num_upvotes'].append(lines2[i])\n",
    "          d['age'].append(lines3[i])\n",
    "          d['posted_by_user'].append(lines4[i])\n",
    "news_list = pd.DataFrame(d)"
   ]
  },
  {
   "cell_type": "code",
   "execution_count": 39,
   "metadata": {
    "colab": {
     "base_uri": "https://localhost:8080/",
     "height": 573
    },
    "colab_type": "code",
    "executionInfo": {
     "elapsed": 873,
     "status": "ok",
     "timestamp": 1576123308541,
     "user": {
      "displayName": "Kakumanu gnanender reddy",
      "photoUrl": "https://lh3.googleusercontent.com/a-/AAuE7mBpRSGhPP-GCRmqA7KB9AtlNXJ8UJguY6--1zVkew=s64",
      "userId": "13910744378235438843"
     },
     "user_tz": -330
    },
    "id": "2VGfYjSHETMB",
    "outputId": "98594101-43f5-4620-bda9-58c5892a77b7"
   },
   "outputs": [
    {
     "data": {
      "text/html": [
       "<div>\n",
       "<style scoped>\n",
       "    .dataframe tbody tr th:only-of-type {\n",
       "        vertical-align: middle;\n",
       "    }\n",
       "\n",
       "    .dataframe tbody tr th {\n",
       "        vertical-align: top;\n",
       "    }\n",
       "\n",
       "    .dataframe thead th {\n",
       "        text-align: right;\n",
       "    }\n",
       "</style>\n",
       "<table border=\"1\" class=\"dataframe\">\n",
       "  <thead>\n",
       "    <tr style=\"text-align: right;\">\n",
       "      <th></th>\n",
       "      <th>Title</th>\n",
       "      <th>age</th>\n",
       "      <th>posted_by_user</th>\n",
       "      <th>URL</th>\n",
       "      <th>domain</th>\n",
       "      <th>num_upvotes</th>\n",
       "    </tr>\n",
       "  </thead>\n",
       "  <tbody>\n",
       "    <tr>\n",
       "      <th>0</th>\n",
       "      <td>A Programmer's Bucket List</td>\n",
       "      <td>1 minute ago</td>\n",
       "      <td>ankit_m</td>\n",
       "      <td>https://sharelist.co/ankit/lists/F68LIpHAoMvM7...</td>\n",
       "      <td>sharelist.co</td>\n",
       "      <td>1 point</td>\n",
       "    </tr>\n",
       "    <tr>\n",
       "      <th>1</th>\n",
       "      <td>Data from the International Space Station Conf...</td>\n",
       "      <td>1 minute ago</td>\n",
       "      <td>ankit_m</td>\n",
       "      <td>https://arstechnica.com/science/2019/12/data-f...</td>\n",
       "      <td>sharelist.co</td>\n",
       "      <td>1 point</td>\n",
       "    </tr>\n",
       "    <tr>\n",
       "      <th>2</th>\n",
       "      <td>Toyota believes hydrogen fuel cells are the fu...</td>\n",
       "      <td>1 minute ago</td>\n",
       "      <td>ankit_m</td>\n",
       "      <td>https://autoweek.com/article/green-cars/toyota...</td>\n",
       "      <td>sharelist.co</td>\n",
       "      <td>1 point</td>\n",
       "    </tr>\n",
       "    <tr>\n",
       "      <th>3</th>\n",
       "      <td>Advantages of Redundant Coordinates</td>\n",
       "      <td>1 minute ago</td>\n",
       "      <td>ankit_m</td>\n",
       "      <td>https://www.johndcook.com/blog/2019/12/11/redu...</td>\n",
       "      <td>sharelist.co</td>\n",
       "      <td>1 point</td>\n",
       "    </tr>\n",
       "    <tr>\n",
       "      <th>4</th>\n",
       "      <td>Show HN: Minimal Help Center Chatbot for Startups</td>\n",
       "      <td>1 minute ago</td>\n",
       "      <td>ankit_m</td>\n",
       "      <td>https://sparrw.launchaco.com/</td>\n",
       "      <td>sharelist.co</td>\n",
       "      <td>1 point</td>\n",
       "    </tr>\n",
       "    <tr>\n",
       "      <th>...</th>\n",
       "      <td>...</td>\n",
       "      <td>...</td>\n",
       "      <td>...</td>\n",
       "      <td>...</td>\n",
       "      <td>...</td>\n",
       "      <td>...</td>\n",
       "    </tr>\n",
       "    <tr>\n",
       "      <th>467</th>\n",
       "      <td>No dependencies anymore. Start Postput in the ...</td>\n",
       "      <td>14 hours ago</td>\n",
       "      <td>vo2maxer</td>\n",
       "      <td>https://github.com/postput/postput</td>\n",
       "      <td>nature.com</td>\n",
       "      <td>1 point</td>\n",
       "    </tr>\n",
       "    <tr>\n",
       "      <th>468</th>\n",
       "      <td>Continuous Integration and Deployment with Bazel</td>\n",
       "      <td>14 hours ago</td>\n",
       "      <td>vo2maxer</td>\n",
       "      <td>https://blogs.dropbox.com/tech/2019/12/continu...</td>\n",
       "      <td>nature.com</td>\n",
       "      <td>1 point</td>\n",
       "    </tr>\n",
       "    <tr>\n",
       "      <th>469</th>\n",
       "      <td>The Quickening: Mercurial Metal</td>\n",
       "      <td>14 hours ago</td>\n",
       "      <td>vo2maxer</td>\n",
       "      <td>https://hackaday.com/2019/12/11/the-story-of-t...</td>\n",
       "      <td>nature.com</td>\n",
       "      <td>1 point</td>\n",
       "    </tr>\n",
       "    <tr>\n",
       "      <th>470</th>\n",
       "      <td>Hermetic Python Bazel Rules</td>\n",
       "      <td>14 hours ago</td>\n",
       "      <td>vo2maxer</td>\n",
       "      <td>https://github.com/dropbox/dbx_build_tools</td>\n",
       "      <td>nature.com</td>\n",
       "      <td>1 point</td>\n",
       "    </tr>\n",
       "    <tr>\n",
       "      <th>471</th>\n",
       "      <td>Face Detection</td>\n",
       "      <td>14 hours ago</td>\n",
       "      <td>vo2maxer</td>\n",
       "      <td>https://overflowjs.com/posts/Face-Detection-Us...</td>\n",
       "      <td>nature.com</td>\n",
       "      <td>1 point</td>\n",
       "    </tr>\n",
       "  </tbody>\n",
       "</table>\n",
       "<p>472 rows × 6 columns</p>\n",
       "</div>"
      ],
      "text/plain": [
       "                                                 Title           age  \\\n",
       "0                           A Programmer's Bucket List  1 minute ago   \n",
       "1    Data from the International Space Station Conf...  1 minute ago   \n",
       "2    Toyota believes hydrogen fuel cells are the fu...  1 minute ago   \n",
       "3                  Advantages of Redundant Coordinates  1 minute ago   \n",
       "4    Show HN: Minimal Help Center Chatbot for Startups  1 minute ago   \n",
       "..                                                 ...           ...   \n",
       "467  No dependencies anymore. Start Postput in the ...  14 hours ago   \n",
       "468   Continuous Integration and Deployment with Bazel  14 hours ago   \n",
       "469                    The Quickening: Mercurial Metal  14 hours ago   \n",
       "470                        Hermetic Python Bazel Rules  14 hours ago   \n",
       "471                                     Face Detection  14 hours ago   \n",
       "\n",
       "    posted_by_user                                                URL  \\\n",
       "0          ankit_m  https://sharelist.co/ankit/lists/F68LIpHAoMvM7...   \n",
       "1          ankit_m  https://arstechnica.com/science/2019/12/data-f...   \n",
       "2          ankit_m  https://autoweek.com/article/green-cars/toyota...   \n",
       "3          ankit_m  https://www.johndcook.com/blog/2019/12/11/redu...   \n",
       "4          ankit_m                      https://sparrw.launchaco.com/   \n",
       "..             ...                                                ...   \n",
       "467       vo2maxer                 https://github.com/postput/postput   \n",
       "468       vo2maxer  https://blogs.dropbox.com/tech/2019/12/continu...   \n",
       "469       vo2maxer  https://hackaday.com/2019/12/11/the-story-of-t...   \n",
       "470       vo2maxer         https://github.com/dropbox/dbx_build_tools   \n",
       "471       vo2maxer  https://overflowjs.com/posts/Face-Detection-Us...   \n",
       "\n",
       "           domain num_upvotes  \n",
       "0    sharelist.co     1 point  \n",
       "1    sharelist.co     1 point  \n",
       "2    sharelist.co     1 point  \n",
       "3    sharelist.co     1 point  \n",
       "4    sharelist.co     1 point  \n",
       "..            ...         ...  \n",
       "467    nature.com     1 point  \n",
       "468    nature.com     1 point  \n",
       "469    nature.com     1 point  \n",
       "470    nature.com     1 point  \n",
       "471    nature.com     1 point  \n",
       "\n",
       "[472 rows x 6 columns]"
      ]
     },
     "execution_count": 39,
     "metadata": {},
     "output_type": "execute_result"
    }
   ],
   "source": [
    "news_list"
   ]
  },
  {
   "cell_type": "code",
   "execution_count": null,
   "metadata": {},
   "outputs": [],
   "source": []
  },
  {
   "cell_type": "code",
   "execution_count": 26,
   "metadata": {
    "colab": {},
    "colab_type": "code",
    "id": "1QQm_vRsFg4f"
   },
   "outputs": [
    {
     "data": {
      "text/plain": [
       "pandas.core.frame.DataFrame"
      ]
     },
     "execution_count": 26,
     "metadata": {},
     "output_type": "execute_result"
    }
   ],
   "source": [
    "type(page_list)"
   ]
  }
 ],
 "metadata": {
  "accelerator": "GPU",
  "colab": {
   "name": "webscrapping cute43104.ipynb",
   "provenance": [],
   "toc_visible": true
  },
  "kernelspec": {
   "display_name": "Python 3",
   "language": "python",
   "name": "python3"
  },
  "language_info": {
   "codemirror_mode": {
    "name": "ipython",
    "version": 3
   },
   "file_extension": ".py",
   "mimetype": "text/x-python",
   "name": "python",
   "nbconvert_exporter": "python",
   "pygments_lexer": "ipython3",
   "version": "3.7.4"
  }
 },
 "nbformat": 4,
 "nbformat_minor": 1
}
